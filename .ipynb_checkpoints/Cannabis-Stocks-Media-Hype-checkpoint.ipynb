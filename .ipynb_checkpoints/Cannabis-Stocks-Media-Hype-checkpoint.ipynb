{
 "cells": [
  {
   "cell_type": "markdown",
   "metadata": {},
   "source": [
    "# Cannabis Stocks and Media Hype\n",
    "\n",
    "Cannabis stocks have for a few years now been hyped up as the new \"tech stocks\", promising to be to current investors what Apple and Microsoft were decades ago. With marijuana fully legalized in Canada, and fully legal status or reduced decriminalization in thirty-seven of the United States, many investors jumped onboard in 2018 when major cannabis companies, some believing in the product, others believing in the profit. \n",
    "\n",
    "As the demand for the stocks increased, certain stocks saw near-exponential growth, to the wonder and admiration of investors and analysts alike. But how much of that growth was a natural reflection on the product and how much was artificially inflated hype?\n"
   ]
  },
  {
   "cell_type": "markdown",
   "metadata": {},
   "source": [
    "## Step 1: Source Stock Data from NASDAQ\n",
    "\n",
    "Using open-source Python code, I scraped stock information from NASDAQ for Tilray, Inc. (TLRY), Canopy Growth Corp. (CGC), Aurora Cannabis (ACB), and Cronos Group (CRON), four of the most commonly discussed cannabis stocks. These were then stored in JSON files."
   ]
  },
  {
   "cell_type": "code",
   "execution_count": 1,
   "metadata": {},
   "outputs": [],
   "source": [
    "from lxml import html\n",
    "import requests\n",
    "from time import sleep\n",
    "import json\n",
    "import argparse\n",
    "from random import randint\n",
    "\n",
    "import pandas as pd"
   ]
  },
  {
   "cell_type": "code",
   "execution_count": 2,
   "metadata": {},
   "outputs": [
    {
     "name": "stdout",
     "output_type": "stream",
     "text": [
      "<class 'dict'>\n"
     ]
    },
    {
     "data": {
      "text/plain": [
       "{'company_name': '',\n",
       " 'ticker': 'tlry',\n",
       " 'url': 'http://www.nasdaq.com/symbol/tlry',\n",
       " 'open price': None,\n",
       " 'open_date': None,\n",
       " 'close_price': None,\n",
       " 'close_date': None,\n",
       " 'key_stock_data': {}}"
      ]
     },
     "execution_count": 2,
     "metadata": {},
     "output_type": "execute_result"
    }
   ],
   "source": [
    "f = open('tlry-summary.json')\n",
    "data = json.load(f)\n",
    "print(type(data))\n",
    "data"
   ]
  },
  {
   "cell_type": "markdown",
   "metadata": {},
   "source": [
    "That's not very useful. Also, for our purposes, we need historical data. Fortunately, NASDAQ provides historical data in a csv file."
   ]
  },
  {
   "cell_type": "code",
   "execution_count": 8,
   "metadata": {},
   "outputs": [
    {
     "data": {
      "text/html": [
       "<div>\n",
       "<style scoped>\n",
       "    .dataframe tbody tr th:only-of-type {\n",
       "        vertical-align: middle;\n",
       "    }\n",
       "\n",
       "    .dataframe tbody tr th {\n",
       "        vertical-align: top;\n",
       "    }\n",
       "\n",
       "    .dataframe thead th {\n",
       "        text-align: right;\n",
       "    }\n",
       "</style>\n",
       "<table border=\"1\" class=\"dataframe\">\n",
       "  <thead>\n",
       "    <tr style=\"text-align: right;\">\n",
       "      <th></th>\n",
       "      <th>Date</th>\n",
       "      <th>Close/Last</th>\n",
       "      <th>Volume</th>\n",
       "      <th>Open</th>\n",
       "      <th>High</th>\n",
       "      <th>Low</th>\n",
       "    </tr>\n",
       "  </thead>\n",
       "  <tbody>\n",
       "    <tr>\n",
       "      <th>346</th>\n",
       "      <td>07/19/2018</td>\n",
       "      <td>$22.39</td>\n",
       "      <td>11912880</td>\n",
       "      <td>$23.05</td>\n",
       "      <td>$24.00</td>\n",
       "      <td>$20.10</td>\n",
       "    </tr>\n",
       "    <tr>\n",
       "      <th>345</th>\n",
       "      <td>07/20/2018</td>\n",
       "      <td>$29.77</td>\n",
       "      <td>13947110</td>\n",
       "      <td>$24.25</td>\n",
       "      <td>$31.80</td>\n",
       "      <td>$23.50</td>\n",
       "    </tr>\n",
       "    <tr>\n",
       "      <th>344</th>\n",
       "      <td>07/23/2018</td>\n",
       "      <td>$29.45</td>\n",
       "      <td>9984060</td>\n",
       "      <td>$33.48</td>\n",
       "      <td>$34.10</td>\n",
       "      <td>$29.31</td>\n",
       "    </tr>\n",
       "    <tr>\n",
       "      <th>343</th>\n",
       "      <td>07/24/2018</td>\n",
       "      <td>$25.36</td>\n",
       "      <td>5494133</td>\n",
       "      <td>$28.80</td>\n",
       "      <td>$29.43</td>\n",
       "      <td>$25.25</td>\n",
       "    </tr>\n",
       "    <tr>\n",
       "      <th>342</th>\n",
       "      <td>07/25/2018</td>\n",
       "      <td>$26.49</td>\n",
       "      <td>3845034</td>\n",
       "      <td>$25.31</td>\n",
       "      <td>$27.15</td>\n",
       "      <td>$24.20</td>\n",
       "    </tr>\n",
       "  </tbody>\n",
       "</table>\n",
       "</div>"
      ],
      "text/plain": [
       "           Date  Close/Last    Volume    Open    High     Low\n",
       "346  07/19/2018      $22.39  11912880  $23.05  $24.00  $20.10\n",
       "345  07/20/2018      $29.77  13947110  $24.25  $31.80  $23.50\n",
       "344  07/23/2018      $29.45   9984060  $33.48  $34.10  $29.31\n",
       "343  07/24/2018      $25.36   5494133  $28.80  $29.43  $25.25\n",
       "342  07/25/2018      $26.49   3845034  $25.31  $27.15  $24.20"
      ]
     },
     "execution_count": 8,
     "metadata": {},
     "output_type": "execute_result"
    }
   ],
   "source": [
    "tlry = pd.read_csv('TLRYHistoricalQuotes.csv')\n",
    "tlry_asc = tlry.iloc[::-1] #Putting the dates in ascending order\n",
    "tlry_asc.head()"
   ]
  },
  {
   "cell_type": "code",
   "execution_count": 9,
   "metadata": {},
   "outputs": [
    {
     "data": {
      "text/html": [
       "<div>\n",
       "<style scoped>\n",
       "    .dataframe tbody tr th:only-of-type {\n",
       "        vertical-align: middle;\n",
       "    }\n",
       "\n",
       "    .dataframe tbody tr th {\n",
       "        vertical-align: top;\n",
       "    }\n",
       "\n",
       "    .dataframe thead th {\n",
       "        text-align: right;\n",
       "    }\n",
       "</style>\n",
       "<table border=\"1\" class=\"dataframe\">\n",
       "  <thead>\n",
       "    <tr style=\"text-align: right;\">\n",
       "      <th></th>\n",
       "      <th>Date</th>\n",
       "      <th>Close/Last</th>\n",
       "      <th>Volume</th>\n",
       "      <th>Open</th>\n",
       "      <th>High</th>\n",
       "      <th>Low</th>\n",
       "    </tr>\n",
       "  </thead>\n",
       "  <tbody>\n",
       "    <tr>\n",
       "      <th>1258</th>\n",
       "      <td>12/03/2014</td>\n",
       "      <td>$0.91</td>\n",
       "      <td>N/A</td>\n",
       "      <td>$0.91</td>\n",
       "      <td>$0.91</td>\n",
       "      <td>$0.91</td>\n",
       "    </tr>\n",
       "    <tr>\n",
       "      <th>1257</th>\n",
       "      <td>12/04/2014</td>\n",
       "      <td>$0.91</td>\n",
       "      <td>N/A</td>\n",
       "      <td>$0.91</td>\n",
       "      <td>$0.91</td>\n",
       "      <td>$0.91</td>\n",
       "    </tr>\n",
       "    <tr>\n",
       "      <th>1256</th>\n",
       "      <td>12/05/2014</td>\n",
       "      <td>$0.91</td>\n",
       "      <td>N/A</td>\n",
       "      <td>$0.91</td>\n",
       "      <td>$0.91</td>\n",
       "      <td>$0.91</td>\n",
       "    </tr>\n",
       "    <tr>\n",
       "      <th>1255</th>\n",
       "      <td>12/08/2014</td>\n",
       "      <td>$0.91</td>\n",
       "      <td>N/A</td>\n",
       "      <td>$0.91</td>\n",
       "      <td>$0.91</td>\n",
       "      <td>$0.91</td>\n",
       "    </tr>\n",
       "    <tr>\n",
       "      <th>1254</th>\n",
       "      <td>12/09/2014</td>\n",
       "      <td>$0.91</td>\n",
       "      <td>N/A</td>\n",
       "      <td>$0.91</td>\n",
       "      <td>$0.91</td>\n",
       "      <td>$0.91</td>\n",
       "    </tr>\n",
       "  </tbody>\n",
       "</table>\n",
       "</div>"
      ],
      "text/plain": [
       "            Date  Close/Last  Volume   Open   High    Low\n",
       "1258  12/03/2014       $0.91     N/A  $0.91  $0.91  $0.91\n",
       "1257  12/04/2014       $0.91     N/A  $0.91  $0.91  $0.91\n",
       "1256  12/05/2014       $0.91     N/A  $0.91  $0.91  $0.91\n",
       "1255  12/08/2014       $0.91     N/A  $0.91  $0.91  $0.91\n",
       "1254  12/09/2014       $0.91     N/A  $0.91  $0.91  $0.91"
      ]
     },
     "execution_count": 9,
     "metadata": {},
     "output_type": "execute_result"
    }
   ],
   "source": [
    "acb = pd.read_csv('ACBHistoricalQuotes.csv')\n",
    "acb_asc = acb.iloc[::-1]\n",
    "acb_asc.head()"
   ]
  },
  {
   "cell_type": "code",
   "execution_count": 10,
   "metadata": {},
   "outputs": [
    {
     "data": {
      "text/html": [
       "<div>\n",
       "<style scoped>\n",
       "    .dataframe tbody tr th:only-of-type {\n",
       "        vertical-align: middle;\n",
       "    }\n",
       "\n",
       "    .dataframe tbody tr th {\n",
       "        vertical-align: top;\n",
       "    }\n",
       "\n",
       "    .dataframe thead th {\n",
       "        text-align: right;\n",
       "    }\n",
       "</style>\n",
       "<table border=\"1\" class=\"dataframe\">\n",
       "  <thead>\n",
       "    <tr style=\"text-align: right;\">\n",
       "      <th></th>\n",
       "      <th>Date</th>\n",
       "      <th>Close/Last</th>\n",
       "      <th>Volume</th>\n",
       "      <th>Open</th>\n",
       "      <th>High</th>\n",
       "      <th>Low</th>\n",
       "    </tr>\n",
       "  </thead>\n",
       "  <tbody>\n",
       "    <tr>\n",
       "      <th>1057</th>\n",
       "      <td>09/22/2015</td>\n",
       "      <td>$1.38</td>\n",
       "      <td>5324</td>\n",
       "      <td>$1.36</td>\n",
       "      <td>$1.38</td>\n",
       "      <td>$1.36</td>\n",
       "    </tr>\n",
       "    <tr>\n",
       "      <th>1056</th>\n",
       "      <td>09/23/2015</td>\n",
       "      <td>$1.33</td>\n",
       "      <td>10500</td>\n",
       "      <td>$1.36</td>\n",
       "      <td>$1.36</td>\n",
       "      <td>$1.33</td>\n",
       "    </tr>\n",
       "    <tr>\n",
       "      <th>1055</th>\n",
       "      <td>09/24/2015</td>\n",
       "      <td>$1.30</td>\n",
       "      <td>3734</td>\n",
       "      <td>$1.34</td>\n",
       "      <td>$1.35</td>\n",
       "      <td>$1.29</td>\n",
       "    </tr>\n",
       "    <tr>\n",
       "      <th>1054</th>\n",
       "      <td>09/25/2015</td>\n",
       "      <td>$1.32</td>\n",
       "      <td>9354</td>\n",
       "      <td>$1.34</td>\n",
       "      <td>$1.34</td>\n",
       "      <td>$1.32</td>\n",
       "    </tr>\n",
       "    <tr>\n",
       "      <th>1053</th>\n",
       "      <td>09/28/2015</td>\n",
       "      <td>$1.23</td>\n",
       "      <td>5914</td>\n",
       "      <td>$1.30</td>\n",
       "      <td>$1.30</td>\n",
       "      <td>$1.22</td>\n",
       "    </tr>\n",
       "  </tbody>\n",
       "</table>\n",
       "</div>"
      ],
      "text/plain": [
       "            Date  Close/Last  Volume   Open   High    Low\n",
       "1057  09/22/2015       $1.38    5324  $1.36  $1.38  $1.36\n",
       "1056  09/23/2015       $1.33   10500  $1.36  $1.36  $1.33\n",
       "1055  09/24/2015       $1.30    3734  $1.34  $1.35  $1.29\n",
       "1054  09/25/2015       $1.32    9354  $1.34  $1.34  $1.32\n",
       "1053  09/28/2015       $1.23    5914  $1.30  $1.30  $1.22"
      ]
     },
     "execution_count": 10,
     "metadata": {},
     "output_type": "execute_result"
    }
   ],
   "source": [
    "cgc = pd.read_csv('CGCHistoricalQuotes.csv')\n",
    "cgc_asc = cgc.iloc[::-1]\n",
    "cgc_asc.head()"
   ]
  },
  {
   "cell_type": "code",
   "execution_count": 11,
   "metadata": {},
   "outputs": [
    {
     "data": {
      "text/html": [
       "<div>\n",
       "<style scoped>\n",
       "    .dataframe tbody tr th:only-of-type {\n",
       "        vertical-align: middle;\n",
       "    }\n",
       "\n",
       "    .dataframe tbody tr th {\n",
       "        vertical-align: top;\n",
       "    }\n",
       "\n",
       "    .dataframe thead th {\n",
       "        text-align: right;\n",
       "    }\n",
       "</style>\n",
       "<table border=\"1\" class=\"dataframe\">\n",
       "  <thead>\n",
       "    <tr style=\"text-align: right;\">\n",
       "      <th></th>\n",
       "      <th>Date</th>\n",
       "      <th>Close/Last</th>\n",
       "      <th>Volume</th>\n",
       "      <th>Open</th>\n",
       "      <th>High</th>\n",
       "      <th>Low</th>\n",
       "    </tr>\n",
       "  </thead>\n",
       "  <tbody>\n",
       "    <tr>\n",
       "      <th>20</th>\n",
       "      <td>11/04/2019</td>\n",
       "      <td>$8.08</td>\n",
       "      <td>4312321</td>\n",
       "      <td>$8.20</td>\n",
       "      <td>$8.30</td>\n",
       "      <td>$8.08</td>\n",
       "    </tr>\n",
       "    <tr>\n",
       "      <th>19</th>\n",
       "      <td>11/05/2019</td>\n",
       "      <td>$8.23</td>\n",
       "      <td>3596968</td>\n",
       "      <td>$8.12</td>\n",
       "      <td>$8.43</td>\n",
       "      <td>$8.08</td>\n",
       "    </tr>\n",
       "    <tr>\n",
       "      <th>18</th>\n",
       "      <td>11/06/2019</td>\n",
       "      <td>$8.33</td>\n",
       "      <td>3645152</td>\n",
       "      <td>$8.31</td>\n",
       "      <td>$8.48</td>\n",
       "      <td>$8.17</td>\n",
       "    </tr>\n",
       "    <tr>\n",
       "      <th>17</th>\n",
       "      <td>11/07/2019</td>\n",
       "      <td>$7.93</td>\n",
       "      <td>6158625</td>\n",
       "      <td>$8.40</td>\n",
       "      <td>$8.52</td>\n",
       "      <td>$7.86</td>\n",
       "    </tr>\n",
       "    <tr>\n",
       "      <th>16</th>\n",
       "      <td>11/08/2019</td>\n",
       "      <td>$8.52</td>\n",
       "      <td>7920348</td>\n",
       "      <td>$7.95</td>\n",
       "      <td>$8.60</td>\n",
       "      <td>$7.86</td>\n",
       "    </tr>\n",
       "  </tbody>\n",
       "</table>\n",
       "</div>"
      ],
      "text/plain": [
       "          Date  Close/Last   Volume   Open   High    Low\n",
       "20  11/04/2019       $8.08  4312321  $8.20  $8.30  $8.08\n",
       "19  11/05/2019       $8.23  3596968  $8.12  $8.43  $8.08\n",
       "18  11/06/2019       $8.33  3645152  $8.31  $8.48  $8.17\n",
       "17  11/07/2019       $7.93  6158625  $8.40  $8.52  $7.86\n",
       "16  11/08/2019       $8.52  7920348  $7.95  $8.60  $7.86"
      ]
     },
     "execution_count": 11,
     "metadata": {},
     "output_type": "execute_result"
    }
   ],
   "source": [
    "cron = pd.read_csv('CRONHistoricalQuotes.csv')\n",
    "cron_asc = cron.iloc[::-1]\n",
    "cron_asc.head()"
   ]
  },
  {
   "cell_type": "markdown",
   "metadata": {},
   "source": [
    "From the previews of the dataframes, we can see that Aurora Cannabis (ACB) was the first to go public in December 2014, followed by Canopy Growth Corporation (CGC) in September 2015. Tilray, Inc. (TLRY) and Cronos Group (CRON) are relatively new, going public in July 2018 and November 2019, respectively."
   ]
  },
  {
   "cell_type": "markdown",
   "metadata": {},
   "source": [
    "## Step 2: Data Preprocessing/Cleaning"
   ]
  },
  {
   "cell_type": "code",
   "execution_count": null,
   "metadata": {},
   "outputs": [],
   "source": []
  }
 ],
 "metadata": {
  "kernelspec": {
   "display_name": "Python 3",
   "language": "python",
   "name": "python3"
  },
  "language_info": {
   "codemirror_mode": {
    "name": "ipython",
    "version": 3
   },
   "file_extension": ".py",
   "mimetype": "text/x-python",
   "name": "python",
   "nbconvert_exporter": "python",
   "pygments_lexer": "ipython3",
   "version": "3.7.5"
  }
 },
 "nbformat": 4,
 "nbformat_minor": 2
}
