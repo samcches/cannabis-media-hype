{
 "cells": [
  {
   "cell_type": "markdown",
   "metadata": {},
   "source": [
    "# Cannabis Stocks and Media Hype\n",
    "\n",
    "Cannabis stocks have for a few years now been hyped up as the new \"tech stocks\", promising to be to current investors what Apple and Microsoft were decades ago. With marijuana fully legalized in Canada, and fully legal status or reduced decriminalization in thirty-seven of the United States, many investors jumped onboard in 2018 when major cannabis companies, some believing in the product, others believing in the profit. \n",
    "\n",
    "As the demand for the stocks increased, certain stocks saw near-exponential growth, to the wonder and admiration of investors and analysts alike. But how much of that growth was a natural reflection on the product and how much was artificially inflated hype?\n"
   ]
  },
  {
   "cell_type": "markdown",
   "metadata": {},
   "source": [
    "## Step 1: Source Stock Data from NASDAQ\n",
    "\n",
    "Using open-source Python code, I scraped stock information from NASDAQ for Tilray, Inc. (TLRY), Canopy Growth Corp. (CGC), Aurora Cannabis (ACB), and Cronos Group (CRON), four of the most commonly discussed cannabis stocks. These were then stored in JSON files."
   ]
  },
  {
   "cell_type": "code",
   "execution_count": 1,
   "metadata": {},
   "outputs": [],
   "source": [
    "from lxml import html\n",
    "import requests\n",
    "from time import sleep\n",
    "import json\n",
    "import argparse\n",
    "from random import randint\n",
    "\n",
    "import pandas as pd"
   ]
  },
  {
   "cell_type": "code",
   "execution_count": 2,
   "metadata": {},
   "outputs": [
    {
     "name": "stdout",
     "output_type": "stream",
     "text": [
      "<class 'dict'>\n"
     ]
    },
    {
     "data": {
      "text/plain": [
       "{'company_name': '',\n",
       " 'ticker': 'tlry',\n",
       " 'url': 'http://www.nasdaq.com/symbol/tlry',\n",
       " 'open price': None,\n",
       " 'open_date': None,\n",
       " 'close_price': None,\n",
       " 'close_date': None,\n",
       " 'key_stock_data': {}}"
      ]
     },
     "execution_count": 2,
     "metadata": {},
     "output_type": "execute_result"
    }
   ],
   "source": [
    "f = open('tlry-summary.json')\n",
    "data = json.load(f)\n",
    "print(type(data))\n",
    "data"
   ]
  },
  {
   "cell_type": "markdown",
   "metadata": {},
   "source": [
    "That's not very useful. Also, for our purposes, we need historical data, not just the data for the current day, which is what the webpage presents. Fortunately, NASDAQ provides historical data in a csv file."
   ]
  },
  {
   "cell_type": "code",
   "execution_count": 3,
   "metadata": {},
   "outputs": [
    {
     "data": {
      "text/html": [
       "<div>\n",
       "<style scoped>\n",
       "    .dataframe tbody tr th:only-of-type {\n",
       "        vertical-align: middle;\n",
       "    }\n",
       "\n",
       "    .dataframe tbody tr th {\n",
       "        vertical-align: top;\n",
       "    }\n",
       "\n",
       "    .dataframe thead th {\n",
       "        text-align: right;\n",
       "    }\n",
       "</style>\n",
       "<table border=\"1\" class=\"dataframe\">\n",
       "  <thead>\n",
       "    <tr style=\"text-align: right;\">\n",
       "      <th></th>\n",
       "      <th>Date</th>\n",
       "      <th>Close/Last</th>\n",
       "      <th>Volume</th>\n",
       "      <th>Open</th>\n",
       "      <th>High</th>\n",
       "      <th>Low</th>\n",
       "    </tr>\n",
       "  </thead>\n",
       "  <tbody>\n",
       "    <tr>\n",
       "      <th>346</th>\n",
       "      <td>07/19/2018</td>\n",
       "      <td>$22.39</td>\n",
       "      <td>11912880</td>\n",
       "      <td>$23.05</td>\n",
       "      <td>$24.00</td>\n",
       "      <td>$20.10</td>\n",
       "    </tr>\n",
       "    <tr>\n",
       "      <th>345</th>\n",
       "      <td>07/20/2018</td>\n",
       "      <td>$29.77</td>\n",
       "      <td>13947110</td>\n",
       "      <td>$24.25</td>\n",
       "      <td>$31.80</td>\n",
       "      <td>$23.50</td>\n",
       "    </tr>\n",
       "    <tr>\n",
       "      <th>344</th>\n",
       "      <td>07/23/2018</td>\n",
       "      <td>$29.45</td>\n",
       "      <td>9984060</td>\n",
       "      <td>$33.48</td>\n",
       "      <td>$34.10</td>\n",
       "      <td>$29.31</td>\n",
       "    </tr>\n",
       "    <tr>\n",
       "      <th>343</th>\n",
       "      <td>07/24/2018</td>\n",
       "      <td>$25.36</td>\n",
       "      <td>5494133</td>\n",
       "      <td>$28.80</td>\n",
       "      <td>$29.43</td>\n",
       "      <td>$25.25</td>\n",
       "    </tr>\n",
       "    <tr>\n",
       "      <th>342</th>\n",
       "      <td>07/25/2018</td>\n",
       "      <td>$26.49</td>\n",
       "      <td>3845034</td>\n",
       "      <td>$25.31</td>\n",
       "      <td>$27.15</td>\n",
       "      <td>$24.20</td>\n",
       "    </tr>\n",
       "  </tbody>\n",
       "</table>\n",
       "</div>"
      ],
      "text/plain": [
       "           Date  Close/Last    Volume    Open    High     Low\n",
       "346  07/19/2018      $22.39  11912880  $23.05  $24.00  $20.10\n",
       "345  07/20/2018      $29.77  13947110  $24.25  $31.80  $23.50\n",
       "344  07/23/2018      $29.45   9984060  $33.48  $34.10  $29.31\n",
       "343  07/24/2018      $25.36   5494133  $28.80  $29.43  $25.25\n",
       "342  07/25/2018      $26.49   3845034  $25.31  $27.15  $24.20"
      ]
     },
     "execution_count": 3,
     "metadata": {},
     "output_type": "execute_result"
    }
   ],
   "source": [
    "tlry = pd.read_csv('TLRYHistoricalQuotes.csv')\n",
    "tlry_asc = tlry.iloc[::-1] #Putting the dates in ascending order\n",
    "tlry_asc.head()"
   ]
  },
  {
   "cell_type": "code",
   "execution_count": 4,
   "metadata": {},
   "outputs": [
    {
     "data": {
      "text/html": [
       "<div>\n",
       "<style scoped>\n",
       "    .dataframe tbody tr th:only-of-type {\n",
       "        vertical-align: middle;\n",
       "    }\n",
       "\n",
       "    .dataframe tbody tr th {\n",
       "        vertical-align: top;\n",
       "    }\n",
       "\n",
       "    .dataframe thead th {\n",
       "        text-align: right;\n",
       "    }\n",
       "</style>\n",
       "<table border=\"1\" class=\"dataframe\">\n",
       "  <thead>\n",
       "    <tr style=\"text-align: right;\">\n",
       "      <th></th>\n",
       "      <th>Date</th>\n",
       "      <th>Close/Last</th>\n",
       "      <th>Volume</th>\n",
       "      <th>Open</th>\n",
       "      <th>High</th>\n",
       "      <th>Low</th>\n",
       "    </tr>\n",
       "  </thead>\n",
       "  <tbody>\n",
       "    <tr>\n",
       "      <th>1258</th>\n",
       "      <td>12/03/2014</td>\n",
       "      <td>$0.91</td>\n",
       "      <td>N/A</td>\n",
       "      <td>$0.91</td>\n",
       "      <td>$0.91</td>\n",
       "      <td>$0.91</td>\n",
       "    </tr>\n",
       "    <tr>\n",
       "      <th>1257</th>\n",
       "      <td>12/04/2014</td>\n",
       "      <td>$0.91</td>\n",
       "      <td>N/A</td>\n",
       "      <td>$0.91</td>\n",
       "      <td>$0.91</td>\n",
       "      <td>$0.91</td>\n",
       "    </tr>\n",
       "    <tr>\n",
       "      <th>1256</th>\n",
       "      <td>12/05/2014</td>\n",
       "      <td>$0.91</td>\n",
       "      <td>N/A</td>\n",
       "      <td>$0.91</td>\n",
       "      <td>$0.91</td>\n",
       "      <td>$0.91</td>\n",
       "    </tr>\n",
       "    <tr>\n",
       "      <th>1255</th>\n",
       "      <td>12/08/2014</td>\n",
       "      <td>$0.91</td>\n",
       "      <td>N/A</td>\n",
       "      <td>$0.91</td>\n",
       "      <td>$0.91</td>\n",
       "      <td>$0.91</td>\n",
       "    </tr>\n",
       "    <tr>\n",
       "      <th>1254</th>\n",
       "      <td>12/09/2014</td>\n",
       "      <td>$0.91</td>\n",
       "      <td>N/A</td>\n",
       "      <td>$0.91</td>\n",
       "      <td>$0.91</td>\n",
       "      <td>$0.91</td>\n",
       "    </tr>\n",
       "  </tbody>\n",
       "</table>\n",
       "</div>"
      ],
      "text/plain": [
       "            Date  Close/Last  Volume   Open   High    Low\n",
       "1258  12/03/2014       $0.91     N/A  $0.91  $0.91  $0.91\n",
       "1257  12/04/2014       $0.91     N/A  $0.91  $0.91  $0.91\n",
       "1256  12/05/2014       $0.91     N/A  $0.91  $0.91  $0.91\n",
       "1255  12/08/2014       $0.91     N/A  $0.91  $0.91  $0.91\n",
       "1254  12/09/2014       $0.91     N/A  $0.91  $0.91  $0.91"
      ]
     },
     "execution_count": 4,
     "metadata": {},
     "output_type": "execute_result"
    }
   ],
   "source": [
    "acb = pd.read_csv('ACBHistoricalQuotes.csv')\n",
    "acb_asc = acb.iloc[::-1]\n",
    "acb_asc.head()"
   ]
  },
  {
   "cell_type": "code",
   "execution_count": 5,
   "metadata": {},
   "outputs": [
    {
     "data": {
      "text/html": [
       "<div>\n",
       "<style scoped>\n",
       "    .dataframe tbody tr th:only-of-type {\n",
       "        vertical-align: middle;\n",
       "    }\n",
       "\n",
       "    .dataframe tbody tr th {\n",
       "        vertical-align: top;\n",
       "    }\n",
       "\n",
       "    .dataframe thead th {\n",
       "        text-align: right;\n",
       "    }\n",
       "</style>\n",
       "<table border=\"1\" class=\"dataframe\">\n",
       "  <thead>\n",
       "    <tr style=\"text-align: right;\">\n",
       "      <th></th>\n",
       "      <th>Date</th>\n",
       "      <th>Close/Last</th>\n",
       "      <th>Volume</th>\n",
       "      <th>Open</th>\n",
       "      <th>High</th>\n",
       "      <th>Low</th>\n",
       "    </tr>\n",
       "  </thead>\n",
       "  <tbody>\n",
       "    <tr>\n",
       "      <th>1057</th>\n",
       "      <td>09/22/2015</td>\n",
       "      <td>$1.38</td>\n",
       "      <td>5324</td>\n",
       "      <td>$1.36</td>\n",
       "      <td>$1.38</td>\n",
       "      <td>$1.36</td>\n",
       "    </tr>\n",
       "    <tr>\n",
       "      <th>1056</th>\n",
       "      <td>09/23/2015</td>\n",
       "      <td>$1.33</td>\n",
       "      <td>10500</td>\n",
       "      <td>$1.36</td>\n",
       "      <td>$1.36</td>\n",
       "      <td>$1.33</td>\n",
       "    </tr>\n",
       "    <tr>\n",
       "      <th>1055</th>\n",
       "      <td>09/24/2015</td>\n",
       "      <td>$1.30</td>\n",
       "      <td>3734</td>\n",
       "      <td>$1.34</td>\n",
       "      <td>$1.35</td>\n",
       "      <td>$1.29</td>\n",
       "    </tr>\n",
       "    <tr>\n",
       "      <th>1054</th>\n",
       "      <td>09/25/2015</td>\n",
       "      <td>$1.32</td>\n",
       "      <td>9354</td>\n",
       "      <td>$1.34</td>\n",
       "      <td>$1.34</td>\n",
       "      <td>$1.32</td>\n",
       "    </tr>\n",
       "    <tr>\n",
       "      <th>1053</th>\n",
       "      <td>09/28/2015</td>\n",
       "      <td>$1.23</td>\n",
       "      <td>5914</td>\n",
       "      <td>$1.30</td>\n",
       "      <td>$1.30</td>\n",
       "      <td>$1.22</td>\n",
       "    </tr>\n",
       "  </tbody>\n",
       "</table>\n",
       "</div>"
      ],
      "text/plain": [
       "            Date  Close/Last  Volume   Open   High    Low\n",
       "1057  09/22/2015       $1.38    5324  $1.36  $1.38  $1.36\n",
       "1056  09/23/2015       $1.33   10500  $1.36  $1.36  $1.33\n",
       "1055  09/24/2015       $1.30    3734  $1.34  $1.35  $1.29\n",
       "1054  09/25/2015       $1.32    9354  $1.34  $1.34  $1.32\n",
       "1053  09/28/2015       $1.23    5914  $1.30  $1.30  $1.22"
      ]
     },
     "execution_count": 5,
     "metadata": {},
     "output_type": "execute_result"
    }
   ],
   "source": [
    "cgc = pd.read_csv('CGCHistoricalQuotes.csv')\n",
    "cgc_asc = cgc.iloc[::-1]\n",
    "cgc_asc.head()"
   ]
  },
  {
   "cell_type": "code",
   "execution_count": 6,
   "metadata": {},
   "outputs": [
    {
     "data": {
      "text/html": [
       "<div>\n",
       "<style scoped>\n",
       "    .dataframe tbody tr th:only-of-type {\n",
       "        vertical-align: middle;\n",
       "    }\n",
       "\n",
       "    .dataframe tbody tr th {\n",
       "        vertical-align: top;\n",
       "    }\n",
       "\n",
       "    .dataframe thead th {\n",
       "        text-align: right;\n",
       "    }\n",
       "</style>\n",
       "<table border=\"1\" class=\"dataframe\">\n",
       "  <thead>\n",
       "    <tr style=\"text-align: right;\">\n",
       "      <th></th>\n",
       "      <th>Date</th>\n",
       "      <th>Close/Last</th>\n",
       "      <th>Volume</th>\n",
       "      <th>Open</th>\n",
       "      <th>High</th>\n",
       "      <th>Low</th>\n",
       "    </tr>\n",
       "  </thead>\n",
       "  <tbody>\n",
       "    <tr>\n",
       "      <th>20</th>\n",
       "      <td>11/04/2019</td>\n",
       "      <td>$8.08</td>\n",
       "      <td>4312321</td>\n",
       "      <td>$8.20</td>\n",
       "      <td>$8.30</td>\n",
       "      <td>$8.08</td>\n",
       "    </tr>\n",
       "    <tr>\n",
       "      <th>19</th>\n",
       "      <td>11/05/2019</td>\n",
       "      <td>$8.23</td>\n",
       "      <td>3596968</td>\n",
       "      <td>$8.12</td>\n",
       "      <td>$8.43</td>\n",
       "      <td>$8.08</td>\n",
       "    </tr>\n",
       "    <tr>\n",
       "      <th>18</th>\n",
       "      <td>11/06/2019</td>\n",
       "      <td>$8.33</td>\n",
       "      <td>3645152</td>\n",
       "      <td>$8.31</td>\n",
       "      <td>$8.48</td>\n",
       "      <td>$8.17</td>\n",
       "    </tr>\n",
       "    <tr>\n",
       "      <th>17</th>\n",
       "      <td>11/07/2019</td>\n",
       "      <td>$7.93</td>\n",
       "      <td>6158625</td>\n",
       "      <td>$8.40</td>\n",
       "      <td>$8.52</td>\n",
       "      <td>$7.86</td>\n",
       "    </tr>\n",
       "    <tr>\n",
       "      <th>16</th>\n",
       "      <td>11/08/2019</td>\n",
       "      <td>$8.52</td>\n",
       "      <td>7920348</td>\n",
       "      <td>$7.95</td>\n",
       "      <td>$8.60</td>\n",
       "      <td>$7.86</td>\n",
       "    </tr>\n",
       "  </tbody>\n",
       "</table>\n",
       "</div>"
      ],
      "text/plain": [
       "          Date  Close/Last   Volume   Open   High    Low\n",
       "20  11/04/2019       $8.08  4312321  $8.20  $8.30  $8.08\n",
       "19  11/05/2019       $8.23  3596968  $8.12  $8.43  $8.08\n",
       "18  11/06/2019       $8.33  3645152  $8.31  $8.48  $8.17\n",
       "17  11/07/2019       $7.93  6158625  $8.40  $8.52  $7.86\n",
       "16  11/08/2019       $8.52  7920348  $7.95  $8.60  $7.86"
      ]
     },
     "execution_count": 6,
     "metadata": {},
     "output_type": "execute_result"
    }
   ],
   "source": [
    "cron = pd.read_csv('CRONHistoricalQuotes.csv')\n",
    "cron_asc = cron.iloc[::-1]\n",
    "cron_asc.head()"
   ]
  },
  {
   "cell_type": "markdown",
   "metadata": {},
   "source": [
    "From the previews of the dataframes, we can see that Aurora Cannabis (ACB) was the first to go public in December 2014, followed by Canopy Growth Corporation (CGC) in September 2015. Tilray, Inc. (TLRY) and Cronos Group (CRON) are relatively new, going public in July 2018 and November 2019, respectively."
   ]
  },
  {
   "cell_type": "markdown",
   "metadata": {},
   "source": [
    "## Step 2: Data Preprocessing/Cleaning"
   ]
  },
  {
   "cell_type": "code",
   "execution_count": 7,
   "metadata": {},
   "outputs": [
    {
     "name": "stdout",
     "output_type": "stream",
     "text": [
      "Date           0\n",
      " Close/Last    0\n",
      " Volume        0\n",
      " Open          0\n",
      " High          0\n",
      " Low           0\n",
      "dtype: int64\n",
      "Date           0\n",
      " Close/Last    0\n",
      " Volume        0\n",
      " Open          0\n",
      " High          0\n",
      " Low           0\n",
      "dtype: int64\n",
      "Date           0\n",
      " Close/Last    0\n",
      " Volume        0\n",
      " Open          0\n",
      " High          0\n",
      " Low           0\n",
      "dtype: int64\n"
     ]
    },
    {
     "data": {
      "text/plain": [
       "Date           0\n",
       " Close/Last    0\n",
       " Volume        0\n",
       " Open          0\n",
       " High          0\n",
       " Low           0\n",
       "dtype: int64"
      ]
     },
     "execution_count": 7,
     "metadata": {},
     "output_type": "execute_result"
    }
   ],
   "source": [
    "print(tlry_asc.isnull().sum())\n",
    "print(acb_asc.isnull().sum())\n",
    "print(cgc_asc.isnull().sum())\n",
    "cron_asc.isnull().sum()"
   ]
  },
  {
   "cell_type": "markdown",
   "metadata": {},
   "source": [
    "Luckily, we have no null values to fill in. Now, let's limit our dataframe to the values we'll be using in our time series analysis. "
   ]
  },
  {
   "cell_type": "code",
   "execution_count": 8,
   "metadata": {},
   "outputs": [
    {
     "name": "stdout",
     "output_type": "stream",
     "text": [
      "['Date', ' Close/Last', ' Volume', ' Open', ' High', ' Low']\n",
      "['Date', ' Close/Last', ' Volume', ' Open', ' High', ' Low']\n",
      "['Date', ' Close/Last', ' Volume', ' Open', ' High', ' Low']\n"
     ]
    },
    {
     "data": {
      "text/plain": [
       "['Date', ' Close/Last', ' Volume', ' Open', ' High', ' Low']"
      ]
     },
     "execution_count": 8,
     "metadata": {},
     "output_type": "execute_result"
    }
   ],
   "source": [
    "print(list(tlry_asc.columns))\n",
    "print(list(acb_asc.columns))\n",
    "print(list(cgc_asc.columns))\n",
    "list(cron_asc.columns)"
   ]
  },
  {
   "cell_type": "markdown",
   "metadata": {},
   "source": [
    "As we can see, there is a space before the names of the columns. We need to remove this to facilitate the processing of our data."
   ]
  },
  {
   "cell_type": "code",
   "execution_count": 9,
   "metadata": {},
   "outputs": [
    {
     "data": {
      "text/plain": [
       "['Date', 'Close', 'Volume', 'Open', 'High', 'Low']"
      ]
     },
     "execution_count": 9,
     "metadata": {},
     "output_type": "execute_result"
    }
   ],
   "source": [
    "tlry_asc.rename(columns={' Close/Last':'Close',\n",
    "                        ' Volume': 'Volume',\n",
    "                        ' Open': 'Open',\n",
    "                        ' High': 'High',\n",
    "                        ' Low': 'Low'},\n",
    "                inplace=True)\n",
    "list(tlry_asc.columns)"
   ]
  },
  {
   "cell_type": "code",
   "execution_count": 10,
   "metadata": {},
   "outputs": [
    {
     "data": {
      "text/plain": [
       "['Date', 'Close', 'Volume', 'Open', 'High', 'Low']"
      ]
     },
     "execution_count": 10,
     "metadata": {},
     "output_type": "execute_result"
    }
   ],
   "source": [
    "acb_asc.rename(columns={' Close/Last':'Close',\n",
    "                        ' Volume': 'Volume',\n",
    "                        ' Open': 'Open',\n",
    "                        ' High': 'High',\n",
    "                        ' Low': 'Low'},\n",
    "                inplace=True)\n",
    "list(acb_asc.columns)"
   ]
  },
  {
   "cell_type": "code",
   "execution_count": 11,
   "metadata": {},
   "outputs": [
    {
     "data": {
      "text/plain": [
       "['Date', 'Close', 'Volume', 'Open', 'High', 'Low']"
      ]
     },
     "execution_count": 11,
     "metadata": {},
     "output_type": "execute_result"
    }
   ],
   "source": [
    "cgc_asc.rename(columns={' Close/Last':'Close',\n",
    "                        ' Volume': 'Volume',\n",
    "                        ' Open': 'Open',\n",
    "                        ' High': 'High',\n",
    "                        ' Low': 'Low'},\n",
    "                inplace=True)\n",
    "list(cgc_asc.columns)"
   ]
  },
  {
   "cell_type": "code",
   "execution_count": 12,
   "metadata": {},
   "outputs": [
    {
     "data": {
      "text/plain": [
       "['Date', 'Close', 'Volume', 'Open', 'High', 'Low']"
      ]
     },
     "execution_count": 12,
     "metadata": {},
     "output_type": "execute_result"
    }
   ],
   "source": [
    "cron_asc.rename(columns={' Close/Last':'Close',\n",
    "                        ' Volume': 'Volume',\n",
    "                        ' Open': 'Open',\n",
    "                        ' High': 'High',\n",
    "                        ' Low': 'Low'},\n",
    "                inplace=True)\n",
    "list(cron_asc.columns)"
   ]
  },
  {
   "cell_type": "code",
   "execution_count": 13,
   "metadata": {},
   "outputs": [],
   "source": [
    "tlry_ts = tlry_asc.drop(columns=['Volume'])\n",
    "acb_ts = acb_asc.drop(columns=['Volume'])\n",
    "cgc_ts = cgc_asc.drop(columns=['Volume'])\n",
    "cron_ts = cron_asc.drop(columns=['Volume'])"
   ]
  },
  {
   "cell_type": "markdown",
   "metadata": {},
   "source": [
    "## Step 3: Time Series Analysis\n",
    "\n",
    "Before we begin to consider the media hype's effects on the stock prices, we need to test for seasonality."
   ]
  },
  {
   "cell_type": "code",
   "execution_count": 14,
   "metadata": {},
   "outputs": [],
   "source": [
    "def get_datetimes(df):\n",
    "    return pd.to_datetime(df.Date)"
   ]
  },
  {
   "cell_type": "code",
   "execution_count": 15,
   "metadata": {},
   "outputs": [],
   "source": [
    "tlry_ts['Date'] = get_datetimes(tlry_ts)\n",
    "\n",
    "acb_ts['Date'] = get_datetimes(acb_ts)\n",
    "\n",
    "cgc_ts['Date'] = get_datetimes(cgc_ts)\n",
    "\n",
    "cron_ts['Date'] = get_datetimes(cron_ts)"
   ]
  },
  {
   "cell_type": "code",
   "execution_count": 42,
   "metadata": {},
   "outputs": [],
   "source": [
    "tlry_ts = tlry_ts.set_index('Date', inplace=True)\n",
    "acb_ts = acb_ts.set_index('Date', inplace = True)\n",
    "cgc_ts = cgc_ts.set_index('Date', inplace = True)\n",
    "cron_ts = cron_ts.set_index('Date', inplace=True)"
   ]
  },
  {
   "cell_type": "code",
   "execution_count": 17,
   "metadata": {},
   "outputs": [],
   "source": [
    "tlry_ts.Open = tlry_ts.Open.str.strip('$')\n",
    "tlry_ts.Close = tlry_ts.Close.str.strip('$')\n",
    "tlry_ts.High = tlry_ts.High.str.strip('$')\n",
    "tlry_ts.Low = tlry_ts.Low.str.strip('$')\n",
    "\n",
    "acb_ts.Open = acb_ts.Open.str.strip('$')\n",
    "acb_ts.Close = acb_ts.Close.str.strip('$')\n",
    "acb_ts.High = acb_ts.High.str.strip('$')\n",
    "acb_ts.Low = acb_ts.Low.str.strip('$')\n",
    "\n",
    "cgc_ts.Open = cgc_ts.Open.str.strip('$')\n",
    "cgc_ts.Close = cgc_ts.Close.str.strip('$')\n",
    "cgc_ts.High = cgc_ts.High.str.strip('$')\n",
    "cgc_ts.Low = cgc_ts.Low.str.strip('$')\n",
    "\n",
    "cron_ts.Open = cron_ts.Open.str.strip('$')\n",
    "cron_ts.Close = cron_ts.Close.str.strip('$')\n",
    "cron_ts.High = cron_ts.High.str.strip('$')\n",
    "cron_ts.Low = cron_ts.Low.str.strip('$')"
   ]
  },
  {
   "cell_type": "code",
   "execution_count": 18,
   "metadata": {},
   "outputs": [],
   "source": [
    "tlry_ts.Open = pd.to_numeric(tlry_ts.Open)\n",
    "tlry_ts.Close = pd.to_numeric(tlry_ts.Close)\n",
    "tlry_ts.High = pd.to_numeric(tlry_ts.High)\n",
    "tlry_ts.Low = pd.to_numeric(tlry_ts.Low)\n",
    "\n",
    "acb_ts.Open = pd.to_numeric(acb_ts.Open)\n",
    "acb_ts.Close = pd.to_numeric(acb_ts.Open)\n",
    "acb_ts.High = pd.to_numeric(acb_ts.High)\n",
    "acb_ts.Low = pd.to_numeric(acb_ts.Low)\n",
    "\n",
    "cgc_ts.Open = pd.to_numeric(cgc_ts.Open)\n",
    "cgc_ts.Close = pd.to_numeric(cgc_ts.Close)\n",
    "cgc_ts.High = pd.to_numeric(cgc_ts.High)\n",
    "cgc_ts.Low = pd.to_numeric(cgc_ts.Low)\n",
    "\n",
    "cron_ts.Open = pd.to_numeric(cron_ts.Open)\n",
    "cron_ts.Close = pd.to_numeric(cron_ts.Close)\n",
    "cron_ts.High = pd.to_numeric(cron_ts.High)\n",
    "cron_ts.Low = pd.to_numeric(cron_ts.Low)"
   ]
  },
  {
   "cell_type": "code",
   "execution_count": 21,
   "metadata": {},
   "outputs": [],
   "source": [
    "tlry_open = tlry_ts.drop(columns=['Close'])\n",
    "tlry_close = tlry_ts.drop(columns=['Open'])\n",
    "\n",
    "acb_open = acb_ts.drop(columns=['Close'])\n",
    "acb_close = acb_ts.drop(columns=['Open'])\n",
    "\n",
    "cgc_open = cgc_ts.drop(columns=['Close'])\n",
    "cgc_close = cgc_ts.drop(columns=['Open'])\n",
    "\n",
    "cron_open = cron_ts.drop(columns=['Close'])\n",
    "cron_close = cron_ts.drop(columns=['Open'])"
   ]
  },
  {
   "cell_type": "code",
   "execution_count": 43,
   "metadata": {},
   "outputs": [
    {
     "ename": "TypeError",
     "evalue": "'NoneType' object is not subscriptable",
     "output_type": "error",
     "traceback": [
      "\u001b[0;31m---------------------------------------------------------------------------\u001b[0m",
      "\u001b[0;31mTypeError\u001b[0m                                 Traceback (most recent call last)",
      "\u001b[0;32m<ipython-input-43-552d71021f1e>\u001b[0m in \u001b[0;36m<module>\u001b[0;34m\u001b[0m\n\u001b[1;32m     11\u001b[0m \u001b[0;34m\u001b[0m\u001b[0m\n\u001b[1;32m     12\u001b[0m \u001b[0mfig\u001b[0m\u001b[0;34m,\u001b[0m \u001b[0max\u001b[0m \u001b[0;34m=\u001b[0m \u001b[0mplt\u001b[0m\u001b[0;34m.\u001b[0m\u001b[0msubplots\u001b[0m\u001b[0;34m(\u001b[0m\u001b[0;34m)\u001b[0m\u001b[0;34m\u001b[0m\u001b[0;34m\u001b[0m\u001b[0m\n\u001b[0;32m---> 13\u001b[0;31m \u001b[0max\u001b[0m\u001b[0;34m.\u001b[0m\u001b[0mset_xlabel\u001b[0m \u001b[0;34m=\u001b[0m \u001b[0mtlry_ts\u001b[0m\u001b[0;34m[\u001b[0m\u001b[0;34m'Date'\u001b[0m\u001b[0;34m]\u001b[0m\u001b[0;34m\u001b[0m\u001b[0;34m\u001b[0m\u001b[0m\n\u001b[0m\u001b[1;32m     14\u001b[0m csticks = candlestick2_ohlc(ax, \n\u001b[1;32m     15\u001b[0m                             \u001b[0mtlry_ts\u001b[0m\u001b[0;34m[\u001b[0m\u001b[0;34m'Open'\u001b[0m\u001b[0;34m]\u001b[0m\u001b[0;34m.\u001b[0m\u001b[0mvalues\u001b[0m\u001b[0;34m,\u001b[0m\u001b[0;34m\u001b[0m\u001b[0;34m\u001b[0m\u001b[0m\n",
      "\u001b[0;31mTypeError\u001b[0m: 'NoneType' object is not subscriptable"
     ]
    },
    {
     "data": {
      "image/png": "[encoded data removed]",
      "text/plain": [
       "<Figure size 432x288 with 1 Axes>"
      ]
     },
     "metadata": {
      "needs_background": "light"
     },
     "output_type": "display_data"
    }
   ],
   "source": [
    "import matplotlib.pyplot as plt\n",
    "from pylab import rcParams\n",
    "import matplotlib.ticker as mtick\n",
    "import matplotlib.dates as mdates\n",
    "from matplotlib.dates import date2num, DateFormatter, WeekdayLocator,\\\n",
    "    DayLocator, MONDAY\n",
    "import numpy as np\n",
    "from mpl_finance import candlestick2_ohlc\n",
    "import datetime\n",
    "\n",
    "\n",
    "fig, ax = plt.subplots()\n",
    "ax.set_xlabel = tlry_ts['Date']\n",
    "csticks = candlestick2_ohlc(ax, \n",
    "                            tlry_ts['Open'].values,\n",
    "                            tlry_ts['Close'].values,\n",
    "                            tlry_ts['High'].values,\n",
    "                            tlry_ts['Low'].values,\n",
    "                            width = 0.6,\n",
    "                            colorup = 'r',\n",
    "                            colordown = 'c')\n",
    "\n",
    "plt.show()"
   ]
  },
  {
   "cell_type": "code",
   "execution_count": 44,
   "metadata": {},
   "outputs": [
    {
     "ename": "TypeError",
     "evalue": "'NoneType' object is not subscriptable",
     "output_type": "error",
     "traceback": [
      "\u001b[0;31m---------------------------------------------------------------------------\u001b[0m",
      "\u001b[0;31mTypeError\u001b[0m                                 Traceback (most recent call last)",
      "\u001b[0;32m<ipython-input-44-4aa20bdfe8e0>\u001b[0m in \u001b[0;36m<module>\u001b[0;34m\u001b[0m\n\u001b[1;32m     14\u001b[0m \u001b[0;34m\u001b[0m\u001b[0m\n\u001b[1;32m     15\u001b[0m csticks2 = candlestick2_ohlc(ax2, \n\u001b[0;32m---> 16\u001b[0;31m                              \u001b[0macb_ts\u001b[0m\u001b[0;34m[\u001b[0m\u001b[0;34m'Open'\u001b[0m\u001b[0;34m]\u001b[0m\u001b[0;34m.\u001b[0m\u001b[0mvalues\u001b[0m\u001b[0;34m,\u001b[0m\u001b[0;34m\u001b[0m\u001b[0;34m\u001b[0m\u001b[0m\n\u001b[0m\u001b[1;32m     17\u001b[0m                              \u001b[0macb_ts\u001b[0m\u001b[0;34m[\u001b[0m\u001b[0;34m'Close'\u001b[0m\u001b[0;34m]\u001b[0m\u001b[0;34m.\u001b[0m\u001b[0mvalues\u001b[0m\u001b[0;34m,\u001b[0m\u001b[0;34m\u001b[0m\u001b[0;34m\u001b[0m\u001b[0m\n\u001b[1;32m     18\u001b[0m                              \u001b[0macb_ts\u001b[0m\u001b[0;34m[\u001b[0m\u001b[0;34m'High'\u001b[0m\u001b[0;34m]\u001b[0m\u001b[0;34m.\u001b[0m\u001b[0mvalues\u001b[0m\u001b[0;34m,\u001b[0m\u001b[0;34m\u001b[0m\u001b[0;34m\u001b[0m\u001b[0m\n",
      "\u001b[0;31mTypeError\u001b[0m: 'NoneType' object is not subscriptable"
     ]
    },
    {
     "data": {
      "image/png": "[encoded data removed]",
      "text/plain": [
       "<Figure size 432x288 with 1 Axes>"
      ]
     },
     "metadata": {
      "needs_background": "light"
     },
     "output_type": "display_data"
    }
   ],
   "source": [
    "fig2, ax2 = plt.subplots()\n",
    "\n",
    "mondays = WeekdayLocator(MONDAY)\n",
    "alldays = DayLocator()          \n",
    "weekFormatter = DateFormatter('%b %d')  \n",
    "dayFormatter = DateFormatter('%d')\n",
    "\n",
    "ax2.xaxis.set_major_locator(mondays)\n",
    "ax2.xaxis.set_minor_locator(alldays)\n",
    "ax2.xaxis.set_major_formatter(weekFormatter)\n",
    "#ax2.xaxis.set_minor_formatter(dayFormatter)\n",
    "myFmt = mdates.DateFormatter('%d')\n",
    "ax.xaxis.set_major_formatter(myFmt)\n",
    "\n",
    "csticks2 = candlestick2_ohlc(ax2, \n",
    "                             acb_ts['Open'].values,\n",
    "                             acb_ts['Close'].values,\n",
    "                             acb_ts['High'].values,\n",
    "                             acb_ts['Low'].values,\n",
    "                             width = 0.6,\n",
    "                             colorup = 'g',\n",
    "                             colordown = 'r')\n",
    "\n",
    "ax2.xaxis_date()\n",
    "ax2.autoscale_view()\n",
    "plt.setp(plt.gca().get_xticklabels(), rotation=45, horizontalalignment='right')\n",
    "\n",
    "plt.show()"
   ]
  },
  {
   "cell_type": "code",
   "execution_count": null,
   "metadata": {},
   "outputs": [],
   "source": []
  }
 ],
 "metadata": {
  "kernelspec": {
   "display_name": "Python 3",
   "language": "python",
   "name": "python3"
  },
  "language_info": {
   "codemirror_mode": {
    "name": "ipython",
    "version": 3
   },
   "file_extension": ".py",
   "mimetype": "text/x-python",
   "name": "python",
   "nbconvert_exporter": "python",
   "pygments_lexer": "ipython3",
   "version": "3.7.5"
  }
 },
 "nbformat": 4,
 "nbformat_minor": 2
}
