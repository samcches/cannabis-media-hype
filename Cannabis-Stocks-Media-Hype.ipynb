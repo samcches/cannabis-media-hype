{
 "cells": [
  {
   "cell_type": "markdown",
   "metadata": {},
   "source": [
    "# Cannabis Stocks and Media Hype\n",
    "\n",
    "Cannabis stocks have for a few years now been hyped up as the new \"tech stocks\", promising to be to current investors what Apple and Microsoft were decades ago. With marijuana fully legalized in Canada, and fully legal status or reduced decriminalization in thirty-seven of the United States, many investors jumped onboard in 2018 when major cannabis companies, some believing in the product, others believing in the profit. \n",
    "\n",
    "As the demand for the stocks increased, certain stocks saw near-exponential growth, to the wonder and admiration of investors and analysts alike. But how much of that growth was a natural reflection on the product and how much was artificially inflated hype?\n"
   ]
  },
  {
   "cell_type": "markdown",
   "metadata": {},
   "source": [
    "## Step 1: Source Stock Data from NASDAQ\n",
    "\n",
    "Using open-source Python code, I scraped stock information from NASDAQ for Tilray, Inc. (TLRY), Canopy Growth Corp. (CGC), Aurora Cannabis (ACB), and Cronos Group (CRON), four of the most commonly discussed cannabis stocks. These were then stored in JSON files."
   ]
  },
  {
   "cell_type": "code",
   "execution_count": 22,
   "metadata": {},
   "outputs": [],
   "source": [
    "from lxml import html\n",
    "import requests\n",
    "from time import sleep\n",
    "import json\n",
    "import argparse\n",
    "from random import randint\n",
    "\n",
    "import pandas as pd"
   ]
  },
  {
   "cell_type": "code",
   "execution_count": 2,
   "metadata": {},
   "outputs": [
    {
     "name": "stdout",
     "output_type": "stream",
     "text": [
      "<class 'dict'>\n"
     ]
    },
    {
     "data": {
      "text/plain": [
       "{'company_name': '',\n",
       " 'ticker': 'tlry',\n",
       " 'url': 'http://www.nasdaq.com/symbol/tlry',\n",
       " 'open price': None,\n",
       " 'open_date': None,\n",
       " 'close_price': None,\n",
       " 'close_date': None,\n",
       " 'key_stock_data': {}}"
      ]
     },
     "execution_count": 2,
     "metadata": {},
     "output_type": "execute_result"
    }
   ],
   "source": [
    "f = open('tlry-summary.json')\n",
    "data = json.load(f)\n",
    "print(type(data))\n",
    "data"
   ]
  },
  {
   "cell_type": "markdown",
   "metadata": {},
   "source": [
    "That's not very useful. Also, for our purposes, we need historical data, not just the data for the current day, which is what the webpage presents. Fortunately, NASDAQ provides historical data in a csv file."
   ]
  },
  {
   "cell_type": "code",
   "execution_count": 3,
   "metadata": {},
   "outputs": [
    {
     "data": {
      "text/html": [
       "<div>\n",
       "<style scoped>\n",
       "    .dataframe tbody tr th:only-of-type {\n",
       "        vertical-align: middle;\n",
       "    }\n",
       "\n",
       "    .dataframe tbody tr th {\n",
       "        vertical-align: top;\n",
       "    }\n",
       "\n",
       "    .dataframe thead th {\n",
       "        text-align: right;\n",
       "    }\n",
       "</style>\n",
       "<table border=\"1\" class=\"dataframe\">\n",
       "  <thead>\n",
       "    <tr style=\"text-align: right;\">\n",
       "      <th></th>\n",
       "      <th>Date</th>\n",
       "      <th>Close/Last</th>\n",
       "      <th>Volume</th>\n",
       "      <th>Open</th>\n",
       "      <th>High</th>\n",
       "      <th>Low</th>\n",
       "    </tr>\n",
       "  </thead>\n",
       "  <tbody>\n",
       "    <tr>\n",
       "      <th>346</th>\n",
       "      <td>07/19/2018</td>\n",
       "      <td>$22.39</td>\n",
       "      <td>11912880</td>\n",
       "      <td>$23.05</td>\n",
       "      <td>$24.00</td>\n",
       "      <td>$20.10</td>\n",
       "    </tr>\n",
       "    <tr>\n",
       "      <th>345</th>\n",
       "      <td>07/20/2018</td>\n",
       "      <td>$29.77</td>\n",
       "      <td>13947110</td>\n",
       "      <td>$24.25</td>\n",
       "      <td>$31.80</td>\n",
       "      <td>$23.50</td>\n",
       "    </tr>\n",
       "    <tr>\n",
       "      <th>344</th>\n",
       "      <td>07/23/2018</td>\n",
       "      <td>$29.45</td>\n",
       "      <td>9984060</td>\n",
       "      <td>$33.48</td>\n",
       "      <td>$34.10</td>\n",
       "      <td>$29.31</td>\n",
       "    </tr>\n",
       "    <tr>\n",
       "      <th>343</th>\n",
       "      <td>07/24/2018</td>\n",
       "      <td>$25.36</td>\n",
       "      <td>5494133</td>\n",
       "      <td>$28.80</td>\n",
       "      <td>$29.43</td>\n",
       "      <td>$25.25</td>\n",
       "    </tr>\n",
       "    <tr>\n",
       "      <th>342</th>\n",
       "      <td>07/25/2018</td>\n",
       "      <td>$26.49</td>\n",
       "      <td>3845034</td>\n",
       "      <td>$25.31</td>\n",
       "      <td>$27.15</td>\n",
       "      <td>$24.20</td>\n",
       "    </tr>\n",
       "  </tbody>\n",
       "</table>\n",
       "</div>"
      ],
      "text/plain": [
       "           Date  Close/Last    Volume    Open    High     Low\n",
       "346  07/19/2018      $22.39  11912880  $23.05  $24.00  $20.10\n",
       "345  07/20/2018      $29.77  13947110  $24.25  $31.80  $23.50\n",
       "344  07/23/2018      $29.45   9984060  $33.48  $34.10  $29.31\n",
       "343  07/24/2018      $25.36   5494133  $28.80  $29.43  $25.25\n",
       "342  07/25/2018      $26.49   3845034  $25.31  $27.15  $24.20"
      ]
     },
     "execution_count": 3,
     "metadata": {},
     "output_type": "execute_result"
    }
   ],
   "source": [
    "tlry = pd.read_csv('TLRYHistoricalQuotes.csv')\n",
    "tlry_asc = tlry.iloc[::-1] #Putting the dates in ascending order\n",
    "tlry_asc.head()"
   ]
  },
  {
   "cell_type": "code",
   "execution_count": 4,
   "metadata": {},
   "outputs": [
    {
     "data": {
      "text/html": [
       "<div>\n",
       "<style scoped>\n",
       "    .dataframe tbody tr th:only-of-type {\n",
       "        vertical-align: middle;\n",
       "    }\n",
       "\n",
       "    .dataframe tbody tr th {\n",
       "        vertical-align: top;\n",
       "    }\n",
       "\n",
       "    .dataframe thead th {\n",
       "        text-align: right;\n",
       "    }\n",
       "</style>\n",
       "<table border=\"1\" class=\"dataframe\">\n",
       "  <thead>\n",
       "    <tr style=\"text-align: right;\">\n",
       "      <th></th>\n",
       "      <th>Date</th>\n",
       "      <th>Close/Last</th>\n",
       "      <th>Volume</th>\n",
       "      <th>Open</th>\n",
       "      <th>High</th>\n",
       "      <th>Low</th>\n",
       "    </tr>\n",
       "  </thead>\n",
       "  <tbody>\n",
       "    <tr>\n",
       "      <th>1258</th>\n",
       "      <td>12/03/2014</td>\n",
       "      <td>$0.91</td>\n",
       "      <td>N/A</td>\n",
       "      <td>$0.91</td>\n",
       "      <td>$0.91</td>\n",
       "      <td>$0.91</td>\n",
       "    </tr>\n",
       "    <tr>\n",
       "      <th>1257</th>\n",
       "      <td>12/04/2014</td>\n",
       "      <td>$0.91</td>\n",
       "      <td>N/A</td>\n",
       "      <td>$0.91</td>\n",
       "      <td>$0.91</td>\n",
       "      <td>$0.91</td>\n",
       "    </tr>\n",
       "    <tr>\n",
       "      <th>1256</th>\n",
       "      <td>12/05/2014</td>\n",
       "      <td>$0.91</td>\n",
       "      <td>N/A</td>\n",
       "      <td>$0.91</td>\n",
       "      <td>$0.91</td>\n",
       "      <td>$0.91</td>\n",
       "    </tr>\n",
       "    <tr>\n",
       "      <th>1255</th>\n",
       "      <td>12/08/2014</td>\n",
       "      <td>$0.91</td>\n",
       "      <td>N/A</td>\n",
       "      <td>$0.91</td>\n",
       "      <td>$0.91</td>\n",
       "      <td>$0.91</td>\n",
       "    </tr>\n",
       "    <tr>\n",
       "      <th>1254</th>\n",
       "      <td>12/09/2014</td>\n",
       "      <td>$0.91</td>\n",
       "      <td>N/A</td>\n",
       "      <td>$0.91</td>\n",
       "      <td>$0.91</td>\n",
       "      <td>$0.91</td>\n",
       "    </tr>\n",
       "  </tbody>\n",
       "</table>\n",
       "</div>"
      ],
      "text/plain": [
       "            Date  Close/Last  Volume   Open   High    Low\n",
       "1258  12/03/2014       $0.91     N/A  $0.91  $0.91  $0.91\n",
       "1257  12/04/2014       $0.91     N/A  $0.91  $0.91  $0.91\n",
       "1256  12/05/2014       $0.91     N/A  $0.91  $0.91  $0.91\n",
       "1255  12/08/2014       $0.91     N/A  $0.91  $0.91  $0.91\n",
       "1254  12/09/2014       $0.91     N/A  $0.91  $0.91  $0.91"
      ]
     },
     "execution_count": 4,
     "metadata": {},
     "output_type": "execute_result"
    }
   ],
   "source": [
    "acb = pd.read_csv('ACBHistoricalQuotes.csv')\n",
    "acb_asc = acb.iloc[::-1]\n",
    "acb_asc.head()"
   ]
  },
  {
   "cell_type": "code",
   "execution_count": 5,
   "metadata": {},
   "outputs": [
    {
     "data": {
      "text/html": [
       "<div>\n",
       "<style scoped>\n",
       "    .dataframe tbody tr th:only-of-type {\n",
       "        vertical-align: middle;\n",
       "    }\n",
       "\n",
       "    .dataframe tbody tr th {\n",
       "        vertical-align: top;\n",
       "    }\n",
       "\n",
       "    .dataframe thead th {\n",
       "        text-align: right;\n",
       "    }\n",
       "</style>\n",
       "<table border=\"1\" class=\"dataframe\">\n",
       "  <thead>\n",
       "    <tr style=\"text-align: right;\">\n",
       "      <th></th>\n",
       "      <th>Date</th>\n",
       "      <th>Close/Last</th>\n",
       "      <th>Volume</th>\n",
       "      <th>Open</th>\n",
       "      <th>High</th>\n",
       "      <th>Low</th>\n",
       "    </tr>\n",
       "  </thead>\n",
       "  <tbody>\n",
       "    <tr>\n",
       "      <th>1057</th>\n",
       "      <td>09/22/2015</td>\n",
       "      <td>$1.38</td>\n",
       "      <td>5324</td>\n",
       "      <td>$1.36</td>\n",
       "      <td>$1.38</td>\n",
       "      <td>$1.36</td>\n",
       "    </tr>\n",
       "    <tr>\n",
       "      <th>1056</th>\n",
       "      <td>09/23/2015</td>\n",
       "      <td>$1.33</td>\n",
       "      <td>10500</td>\n",
       "      <td>$1.36</td>\n",
       "      <td>$1.36</td>\n",
       "      <td>$1.33</td>\n",
       "    </tr>\n",
       "    <tr>\n",
       "      <th>1055</th>\n",
       "      <td>09/24/2015</td>\n",
       "      <td>$1.30</td>\n",
       "      <td>3734</td>\n",
       "      <td>$1.34</td>\n",
       "      <td>$1.35</td>\n",
       "      <td>$1.29</td>\n",
       "    </tr>\n",
       "    <tr>\n",
       "      <th>1054</th>\n",
       "      <td>09/25/2015</td>\n",
       "      <td>$1.32</td>\n",
       "      <td>9354</td>\n",
       "      <td>$1.34</td>\n",
       "      <td>$1.34</td>\n",
       "      <td>$1.32</td>\n",
       "    </tr>\n",
       "    <tr>\n",
       "      <th>1053</th>\n",
       "      <td>09/28/2015</td>\n",
       "      <td>$1.23</td>\n",
       "      <td>5914</td>\n",
       "      <td>$1.30</td>\n",
       "      <td>$1.30</td>\n",
       "      <td>$1.22</td>\n",
       "    </tr>\n",
       "  </tbody>\n",
       "</table>\n",
       "</div>"
      ],
      "text/plain": [
       "            Date  Close/Last  Volume   Open   High    Low\n",
       "1057  09/22/2015       $1.38    5324  $1.36  $1.38  $1.36\n",
       "1056  09/23/2015       $1.33   10500  $1.36  $1.36  $1.33\n",
       "1055  09/24/2015       $1.30    3734  $1.34  $1.35  $1.29\n",
       "1054  09/25/2015       $1.32    9354  $1.34  $1.34  $1.32\n",
       "1053  09/28/2015       $1.23    5914  $1.30  $1.30  $1.22"
      ]
     },
     "execution_count": 5,
     "metadata": {},
     "output_type": "execute_result"
    }
   ],
   "source": [
    "cgc = pd.read_csv('CGCHistoricalQuotes.csv')\n",
    "cgc_asc = cgc.iloc[::-1]\n",
    "cgc_asc.head()"
   ]
  },
  {
   "cell_type": "code",
   "execution_count": 6,
   "metadata": {},
   "outputs": [
    {
     "data": {
      "text/html": [
       "<div>\n",
       "<style scoped>\n",
       "    .dataframe tbody tr th:only-of-type {\n",
       "        vertical-align: middle;\n",
       "    }\n",
       "\n",
       "    .dataframe tbody tr th {\n",
       "        vertical-align: top;\n",
       "    }\n",
       "\n",
       "    .dataframe thead th {\n",
       "        text-align: right;\n",
       "    }\n",
       "</style>\n",
       "<table border=\"1\" class=\"dataframe\">\n",
       "  <thead>\n",
       "    <tr style=\"text-align: right;\">\n",
       "      <th></th>\n",
       "      <th>Date</th>\n",
       "      <th>Close/Last</th>\n",
       "      <th>Volume</th>\n",
       "      <th>Open</th>\n",
       "      <th>High</th>\n",
       "      <th>Low</th>\n",
       "    </tr>\n",
       "  </thead>\n",
       "  <tbody>\n",
       "    <tr>\n",
       "      <th>20</th>\n",
       "      <td>11/04/2019</td>\n",
       "      <td>$8.08</td>\n",
       "      <td>4312321</td>\n",
       "      <td>$8.20</td>\n",
       "      <td>$8.30</td>\n",
       "      <td>$8.08</td>\n",
       "    </tr>\n",
       "    <tr>\n",
       "      <th>19</th>\n",
       "      <td>11/05/2019</td>\n",
       "      <td>$8.23</td>\n",
       "      <td>3596968</td>\n",
       "      <td>$8.12</td>\n",
       "      <td>$8.43</td>\n",
       "      <td>$8.08</td>\n",
       "    </tr>\n",
       "    <tr>\n",
       "      <th>18</th>\n",
       "      <td>11/06/2019</td>\n",
       "      <td>$8.33</td>\n",
       "      <td>3645152</td>\n",
       "      <td>$8.31</td>\n",
       "      <td>$8.48</td>\n",
       "      <td>$8.17</td>\n",
       "    </tr>\n",
       "    <tr>\n",
       "      <th>17</th>\n",
       "      <td>11/07/2019</td>\n",
       "      <td>$7.93</td>\n",
       "      <td>6158625</td>\n",
       "      <td>$8.40</td>\n",
       "      <td>$8.52</td>\n",
       "      <td>$7.86</td>\n",
       "    </tr>\n",
       "    <tr>\n",
       "      <th>16</th>\n",
       "      <td>11/08/2019</td>\n",
       "      <td>$8.52</td>\n",
       "      <td>7920348</td>\n",
       "      <td>$7.95</td>\n",
       "      <td>$8.60</td>\n",
       "      <td>$7.86</td>\n",
       "    </tr>\n",
       "  </tbody>\n",
       "</table>\n",
       "</div>"
      ],
      "text/plain": [
       "          Date  Close/Last   Volume   Open   High    Low\n",
       "20  11/04/2019       $8.08  4312321  $8.20  $8.30  $8.08\n",
       "19  11/05/2019       $8.23  3596968  $8.12  $8.43  $8.08\n",
       "18  11/06/2019       $8.33  3645152  $8.31  $8.48  $8.17\n",
       "17  11/07/2019       $7.93  6158625  $8.40  $8.52  $7.86\n",
       "16  11/08/2019       $8.52  7920348  $7.95  $8.60  $7.86"
      ]
     },
     "execution_count": 6,
     "metadata": {},
     "output_type": "execute_result"
    }
   ],
   "source": [
    "cron = pd.read_csv('CRONHistoricalQuotes.csv')\n",
    "cron_asc = cron.iloc[::-1]\n",
    "cron_asc.head()"
   ]
  },
  {
   "cell_type": "markdown",
   "metadata": {},
   "source": [
    "From the previews of the dataframes, we can see that Aurora Cannabis (ACB) was the first to go public in December 2014, followed by Canopy Growth Corporation (CGC) in September 2015. Tilray, Inc. (TLRY) and Cronos Group (CRON) are relatively new, going public in July 2018 and November 2019, respectively."
   ]
  },
  {
   "cell_type": "markdown",
   "metadata": {},
   "source": [
    "## Step 2: Data Preprocessing/Cleaning"
   ]
  },
  {
   "cell_type": "code",
   "execution_count": 7,
   "metadata": {},
   "outputs": [
    {
     "name": "stdout",
     "output_type": "stream",
     "text": [
      "Date           0\n",
      " Close/Last    0\n",
      " Volume        0\n",
      " Open          0\n",
      " High          0\n",
      " Low           0\n",
      "dtype: int64\n",
      "Date           0\n",
      " Close/Last    0\n",
      " Volume        0\n",
      " Open          0\n",
      " High          0\n",
      " Low           0\n",
      "dtype: int64\n",
      "Date           0\n",
      " Close/Last    0\n",
      " Volume        0\n",
      " Open          0\n",
      " High          0\n",
      " Low           0\n",
      "dtype: int64\n"
     ]
    },
    {
     "data": {
      "text/plain": [
       "Date           0\n",
       " Close/Last    0\n",
       " Volume        0\n",
       " Open          0\n",
       " High          0\n",
       " Low           0\n",
       "dtype: int64"
      ]
     },
     "execution_count": 7,
     "metadata": {},
     "output_type": "execute_result"
    }
   ],
   "source": [
    "print(tlry_asc.isnull().sum())\n",
    "print(acb_asc.isnull().sum())\n",
    "print(cgc_asc.isnull().sum())\n",
    "cron_asc.isnull().sum()"
   ]
  },
  {
   "cell_type": "markdown",
   "metadata": {},
   "source": [
    "Luckily, we have no null values to fill in. Now, let's limit our dataframe to the values we'll be using in our time series analysis. "
   ]
  },
  {
   "cell_type": "code",
   "execution_count": 8,
   "metadata": {},
   "outputs": [
    {
     "name": "stdout",
     "output_type": "stream",
     "text": [
      "['Date', ' Close/Last', ' Volume', ' Open', ' High', ' Low']\n",
      "['Date', ' Close/Last', ' Volume', ' Open', ' High', ' Low']\n",
      "['Date', ' Close/Last', ' Volume', ' Open', ' High', ' Low']\n"
     ]
    },
    {
     "data": {
      "text/plain": [
       "['Date', ' Close/Last', ' Volume', ' Open', ' High', ' Low']"
      ]
     },
     "execution_count": 8,
     "metadata": {},
     "output_type": "execute_result"
    }
   ],
   "source": [
    "print(list(tlry_asc.columns))\n",
    "print(list(acb_asc.columns))\n",
    "print(list(cgc_asc.columns))\n",
    "list(cron_asc.columns)"
   ]
  },
  {
   "cell_type": "markdown",
   "metadata": {},
   "source": [
    "As we can see, there is a space before the names of the columns. We need to remove this to facilitate the processing of our data."
   ]
  },
  {
   "cell_type": "code",
   "execution_count": 9,
   "metadata": {},
   "outputs": [
    {
     "data": {
      "text/plain": [
       "['Date', 'Close', 'Volume', 'Open', 'High', 'Low']"
      ]
     },
     "execution_count": 9,
     "metadata": {},
     "output_type": "execute_result"
    }
   ],
   "source": [
    "tlry_asc.rename(columns={' Close/Last':'Close',\n",
    "                        ' Volume': 'Volume',\n",
    "                        ' Open': 'Open',\n",
    "                        ' High': 'High',\n",
    "                        ' Low': 'Low'},\n",
    "                inplace=True)\n",
    "list(tlry_asc.columns)"
   ]
  },
  {
   "cell_type": "code",
   "execution_count": 10,
   "metadata": {},
   "outputs": [
    {
     "data": {
      "text/plain": [
       "['Date', 'Close', 'Volume', 'Open', 'High', 'Low']"
      ]
     },
     "execution_count": 10,
     "metadata": {},
     "output_type": "execute_result"
    }
   ],
   "source": [
    "acb_asc.rename(columns={' Close/Last':'Close',\n",
    "                        ' Volume': 'Volume',\n",
    "                        ' Open': 'Open',\n",
    "                        ' High': 'High',\n",
    "                        ' Low': 'Low'},\n",
    "                inplace=True)\n",
    "list(acb_asc.columns)"
   ]
  },
  {
   "cell_type": "code",
   "execution_count": 11,
   "metadata": {},
   "outputs": [
    {
     "data": {
      "text/plain": [
       "['Date', 'Close', 'Volume', 'Open', 'High', 'Low']"
      ]
     },
     "execution_count": 11,
     "metadata": {},
     "output_type": "execute_result"
    }
   ],
   "source": [
    "cgc_asc.rename(columns={' Close/Last':'Close',\n",
    "                        ' Volume': 'Volume',\n",
    "                        ' Open': 'Open',\n",
    "                        ' High': 'High',\n",
    "                        ' Low': 'Low'},\n",
    "                inplace=True)\n",
    "list(cgc_asc.columns)"
   ]
  },
  {
   "cell_type": "code",
   "execution_count": 12,
   "metadata": {},
   "outputs": [
    {
     "data": {
      "text/plain": [
       "['Date', 'Close', 'Volume', 'Open', 'High', 'Low']"
      ]
     },
     "execution_count": 12,
     "metadata": {},
     "output_type": "execute_result"
    }
   ],
   "source": [
    "cron_asc.rename(columns={' Close/Last':'Close',\n",
    "                        ' Volume': 'Volume',\n",
    "                        ' Open': 'Open',\n",
    "                        ' High': 'High',\n",
    "                        ' Low': 'Low'},\n",
    "                inplace=True)\n",
    "list(cron_asc.columns)"
   ]
  },
  {
   "cell_type": "code",
   "execution_count": 13,
   "metadata": {
    "scrolled": true
   },
   "outputs": [
    {
     "data": {
      "text/html": [
       "<div>\n",
       "<style scoped>\n",
       "    .dataframe tbody tr th:only-of-type {\n",
       "        vertical-align: middle;\n",
       "    }\n",
       "\n",
       "    .dataframe tbody tr th {\n",
       "        vertical-align: top;\n",
       "    }\n",
       "\n",
       "    .dataframe thead th {\n",
       "        text-align: right;\n",
       "    }\n",
       "</style>\n",
       "<table border=\"1\" class=\"dataframe\">\n",
       "  <thead>\n",
       "    <tr style=\"text-align: right;\">\n",
       "      <th></th>\n",
       "      <th>Date</th>\n",
       "      <th>Close</th>\n",
       "      <th>Open</th>\n",
       "    </tr>\n",
       "  </thead>\n",
       "  <tbody>\n",
       "    <tr>\n",
       "      <th>346</th>\n",
       "      <td>07/19/2018</td>\n",
       "      <td>$22.39</td>\n",
       "      <td>$23.05</td>\n",
       "    </tr>\n",
       "    <tr>\n",
       "      <th>345</th>\n",
       "      <td>07/20/2018</td>\n",
       "      <td>$29.77</td>\n",
       "      <td>$24.25</td>\n",
       "    </tr>\n",
       "    <tr>\n",
       "      <th>344</th>\n",
       "      <td>07/23/2018</td>\n",
       "      <td>$29.45</td>\n",
       "      <td>$33.48</td>\n",
       "    </tr>\n",
       "    <tr>\n",
       "      <th>343</th>\n",
       "      <td>07/24/2018</td>\n",
       "      <td>$25.36</td>\n",
       "      <td>$28.80</td>\n",
       "    </tr>\n",
       "    <tr>\n",
       "      <th>342</th>\n",
       "      <td>07/25/2018</td>\n",
       "      <td>$26.49</td>\n",
       "      <td>$25.31</td>\n",
       "    </tr>\n",
       "    <tr>\n",
       "      <th>...</th>\n",
       "      <td>...</td>\n",
       "      <td>...</td>\n",
       "      <td>...</td>\n",
       "    </tr>\n",
       "    <tr>\n",
       "      <th>4</th>\n",
       "      <td>11/26/2019</td>\n",
       "      <td>$20.05</td>\n",
       "      <td>$20.26</td>\n",
       "    </tr>\n",
       "    <tr>\n",
       "      <th>3</th>\n",
       "      <td>11/27/2019</td>\n",
       "      <td>$20.24</td>\n",
       "      <td>$20.28</td>\n",
       "    </tr>\n",
       "    <tr>\n",
       "      <th>2</th>\n",
       "      <td>11/29/2019</td>\n",
       "      <td>$19.84</td>\n",
       "      <td>$20.30</td>\n",
       "    </tr>\n",
       "    <tr>\n",
       "      <th>1</th>\n",
       "      <td>12/02/2019</td>\n",
       "      <td>$19.01</td>\n",
       "      <td>$19.84</td>\n",
       "    </tr>\n",
       "    <tr>\n",
       "      <th>0</th>\n",
       "      <td>12/03/2019</td>\n",
       "      <td>$19.55</td>\n",
       "      <td>$18.55</td>\n",
       "    </tr>\n",
       "  </tbody>\n",
       "</table>\n",
       "<p>347 rows × 3 columns</p>\n",
       "</div>"
      ],
      "text/plain": [
       "           Date   Close    Open\n",
       "346  07/19/2018  $22.39  $23.05\n",
       "345  07/20/2018  $29.77  $24.25\n",
       "344  07/23/2018  $29.45  $33.48\n",
       "343  07/24/2018  $25.36  $28.80\n",
       "342  07/25/2018  $26.49  $25.31\n",
       "..          ...     ...     ...\n",
       "4    11/26/2019  $20.05  $20.26\n",
       "3    11/27/2019  $20.24  $20.28\n",
       "2    11/29/2019  $19.84  $20.30\n",
       "1    12/02/2019  $19.01  $19.84\n",
       "0    12/03/2019  $19.55  $18.55\n",
       "\n",
       "[347 rows x 3 columns]"
      ]
     },
     "execution_count": 13,
     "metadata": {},
     "output_type": "execute_result"
    }
   ],
   "source": [
    "tlry_ts = tlry_asc.drop(columns=['Volume', 'High', 'Low'])\n",
    "tlry_ts"
   ]
  },
  {
   "cell_type": "code",
   "execution_count": 14,
   "metadata": {},
   "outputs": [
    {
     "data": {
      "text/html": [
       "<div>\n",
       "<style scoped>\n",
       "    .dataframe tbody tr th:only-of-type {\n",
       "        vertical-align: middle;\n",
       "    }\n",
       "\n",
       "    .dataframe tbody tr th {\n",
       "        vertical-align: top;\n",
       "    }\n",
       "\n",
       "    .dataframe thead th {\n",
       "        text-align: right;\n",
       "    }\n",
       "</style>\n",
       "<table border=\"1\" class=\"dataframe\">\n",
       "  <thead>\n",
       "    <tr style=\"text-align: right;\">\n",
       "      <th></th>\n",
       "      <th>Date</th>\n",
       "      <th>Close</th>\n",
       "      <th>Open</th>\n",
       "    </tr>\n",
       "  </thead>\n",
       "  <tbody>\n",
       "    <tr>\n",
       "      <th>1258</th>\n",
       "      <td>12/03/2014</td>\n",
       "      <td>$0.91</td>\n",
       "      <td>$0.91</td>\n",
       "    </tr>\n",
       "    <tr>\n",
       "      <th>1257</th>\n",
       "      <td>12/04/2014</td>\n",
       "      <td>$0.91</td>\n",
       "      <td>$0.91</td>\n",
       "    </tr>\n",
       "    <tr>\n",
       "      <th>1256</th>\n",
       "      <td>12/05/2014</td>\n",
       "      <td>$0.91</td>\n",
       "      <td>$0.91</td>\n",
       "    </tr>\n",
       "    <tr>\n",
       "      <th>1255</th>\n",
       "      <td>12/08/2014</td>\n",
       "      <td>$0.91</td>\n",
       "      <td>$0.91</td>\n",
       "    </tr>\n",
       "    <tr>\n",
       "      <th>1254</th>\n",
       "      <td>12/09/2014</td>\n",
       "      <td>$0.91</td>\n",
       "      <td>$0.91</td>\n",
       "    </tr>\n",
       "    <tr>\n",
       "      <th>...</th>\n",
       "      <td>...</td>\n",
       "      <td>...</td>\n",
       "      <td>...</td>\n",
       "    </tr>\n",
       "    <tr>\n",
       "      <th>4</th>\n",
       "      <td>11/26/2019</td>\n",
       "      <td>$2.39</td>\n",
       "      <td>$2.45</td>\n",
       "    </tr>\n",
       "    <tr>\n",
       "      <th>3</th>\n",
       "      <td>11/27/2019</td>\n",
       "      <td>$2.52</td>\n",
       "      <td>$2.47</td>\n",
       "    </tr>\n",
       "    <tr>\n",
       "      <th>2</th>\n",
       "      <td>11/29/2019</td>\n",
       "      <td>$2.50</td>\n",
       "      <td>$2.61</td>\n",
       "    </tr>\n",
       "    <tr>\n",
       "      <th>1</th>\n",
       "      <td>12/02/2019</td>\n",
       "      <td>$2.44</td>\n",
       "      <td>$2.52</td>\n",
       "    </tr>\n",
       "    <tr>\n",
       "      <th>0</th>\n",
       "      <td>12/03/2019</td>\n",
       "      <td>$2.47</td>\n",
       "      <td>$2.40</td>\n",
       "    </tr>\n",
       "  </tbody>\n",
       "</table>\n",
       "<p>1259 rows × 3 columns</p>\n",
       "</div>"
      ],
      "text/plain": [
       "            Date  Close   Open\n",
       "1258  12/03/2014  $0.91  $0.91\n",
       "1257  12/04/2014  $0.91  $0.91\n",
       "1256  12/05/2014  $0.91  $0.91\n",
       "1255  12/08/2014  $0.91  $0.91\n",
       "1254  12/09/2014  $0.91  $0.91\n",
       "...          ...    ...    ...\n",
       "4     11/26/2019  $2.39  $2.45\n",
       "3     11/27/2019  $2.52  $2.47\n",
       "2     11/29/2019  $2.50  $2.61\n",
       "1     12/02/2019  $2.44  $2.52\n",
       "0     12/03/2019  $2.47  $2.40\n",
       "\n",
       "[1259 rows x 3 columns]"
      ]
     },
     "execution_count": 14,
     "metadata": {},
     "output_type": "execute_result"
    }
   ],
   "source": [
    "acb_ts = acb_asc.drop(columns=['Volume', 'High', 'Low'])\n",
    "acb_ts"
   ]
  },
  {
   "cell_type": "code",
   "execution_count": 15,
   "metadata": {},
   "outputs": [
    {
     "data": {
      "text/html": [
       "<div>\n",
       "<style scoped>\n",
       "    .dataframe tbody tr th:only-of-type {\n",
       "        vertical-align: middle;\n",
       "    }\n",
       "\n",
       "    .dataframe tbody tr th {\n",
       "        vertical-align: top;\n",
       "    }\n",
       "\n",
       "    .dataframe thead th {\n",
       "        text-align: right;\n",
       "    }\n",
       "</style>\n",
       "<table border=\"1\" class=\"dataframe\">\n",
       "  <thead>\n",
       "    <tr style=\"text-align: right;\">\n",
       "      <th></th>\n",
       "      <th>Date</th>\n",
       "      <th>Close</th>\n",
       "      <th>Open</th>\n",
       "    </tr>\n",
       "  </thead>\n",
       "  <tbody>\n",
       "    <tr>\n",
       "      <th>1057</th>\n",
       "      <td>09/22/2015</td>\n",
       "      <td>$1.38</td>\n",
       "      <td>$1.36</td>\n",
       "    </tr>\n",
       "    <tr>\n",
       "      <th>1056</th>\n",
       "      <td>09/23/2015</td>\n",
       "      <td>$1.33</td>\n",
       "      <td>$1.36</td>\n",
       "    </tr>\n",
       "    <tr>\n",
       "      <th>1055</th>\n",
       "      <td>09/24/2015</td>\n",
       "      <td>$1.30</td>\n",
       "      <td>$1.34</td>\n",
       "    </tr>\n",
       "    <tr>\n",
       "      <th>1054</th>\n",
       "      <td>09/25/2015</td>\n",
       "      <td>$1.32</td>\n",
       "      <td>$1.34</td>\n",
       "    </tr>\n",
       "    <tr>\n",
       "      <th>1053</th>\n",
       "      <td>09/28/2015</td>\n",
       "      <td>$1.23</td>\n",
       "      <td>$1.30</td>\n",
       "    </tr>\n",
       "    <tr>\n",
       "      <th>...</th>\n",
       "      <td>...</td>\n",
       "      <td>...</td>\n",
       "      <td>...</td>\n",
       "    </tr>\n",
       "    <tr>\n",
       "      <th>4</th>\n",
       "      <td>11/26/2019</td>\n",
       "      <td>$18.11</td>\n",
       "      <td>$18.00</td>\n",
       "    </tr>\n",
       "    <tr>\n",
       "      <th>3</th>\n",
       "      <td>11/27/2019</td>\n",
       "      <td>$18.81</td>\n",
       "      <td>$18.35</td>\n",
       "    </tr>\n",
       "    <tr>\n",
       "      <th>2</th>\n",
       "      <td>11/29/2019</td>\n",
       "      <td>$18.59</td>\n",
       "      <td>$19.18</td>\n",
       "    </tr>\n",
       "    <tr>\n",
       "      <th>1</th>\n",
       "      <td>12/02/2019</td>\n",
       "      <td>$18.14</td>\n",
       "      <td>$18.31</td>\n",
       "    </tr>\n",
       "    <tr>\n",
       "      <th>0</th>\n",
       "      <td>12/03/2019</td>\n",
       "      <td>$18.98</td>\n",
       "      <td>$17.62</td>\n",
       "    </tr>\n",
       "  </tbody>\n",
       "</table>\n",
       "<p>1058 rows × 3 columns</p>\n",
       "</div>"
      ],
      "text/plain": [
       "            Date   Close    Open\n",
       "1057  09/22/2015   $1.38   $1.36\n",
       "1056  09/23/2015   $1.33   $1.36\n",
       "1055  09/24/2015   $1.30   $1.34\n",
       "1054  09/25/2015   $1.32   $1.34\n",
       "1053  09/28/2015   $1.23   $1.30\n",
       "...          ...     ...     ...\n",
       "4     11/26/2019  $18.11  $18.00\n",
       "3     11/27/2019  $18.81  $18.35\n",
       "2     11/29/2019  $18.59  $19.18\n",
       "1     12/02/2019  $18.14  $18.31\n",
       "0     12/03/2019  $18.98  $17.62\n",
       "\n",
       "[1058 rows x 3 columns]"
      ]
     },
     "execution_count": 15,
     "metadata": {},
     "output_type": "execute_result"
    }
   ],
   "source": [
    "cgc_ts = cgc_asc.drop(columns=['Volume', 'High', 'Low'])\n",
    "cgc_ts"
   ]
  },
  {
   "cell_type": "code",
   "execution_count": 16,
   "metadata": {},
   "outputs": [
    {
     "data": {
      "text/html": [
       "<div>\n",
       "<style scoped>\n",
       "    .dataframe tbody tr th:only-of-type {\n",
       "        vertical-align: middle;\n",
       "    }\n",
       "\n",
       "    .dataframe tbody tr th {\n",
       "        vertical-align: top;\n",
       "    }\n",
       "\n",
       "    .dataframe thead th {\n",
       "        text-align: right;\n",
       "    }\n",
       "</style>\n",
       "<table border=\"1\" class=\"dataframe\">\n",
       "  <thead>\n",
       "    <tr style=\"text-align: right;\">\n",
       "      <th></th>\n",
       "      <th>Date</th>\n",
       "      <th>Close</th>\n",
       "      <th>Open</th>\n",
       "    </tr>\n",
       "  </thead>\n",
       "  <tbody>\n",
       "    <tr>\n",
       "      <th>20</th>\n",
       "      <td>11/04/2019</td>\n",
       "      <td>$8.08</td>\n",
       "      <td>$8.20</td>\n",
       "    </tr>\n",
       "    <tr>\n",
       "      <th>19</th>\n",
       "      <td>11/05/2019</td>\n",
       "      <td>$8.23</td>\n",
       "      <td>$8.12</td>\n",
       "    </tr>\n",
       "    <tr>\n",
       "      <th>18</th>\n",
       "      <td>11/06/2019</td>\n",
       "      <td>$8.33</td>\n",
       "      <td>$8.31</td>\n",
       "    </tr>\n",
       "    <tr>\n",
       "      <th>17</th>\n",
       "      <td>11/07/2019</td>\n",
       "      <td>$7.93</td>\n",
       "      <td>$8.40</td>\n",
       "    </tr>\n",
       "    <tr>\n",
       "      <th>16</th>\n",
       "      <td>11/08/2019</td>\n",
       "      <td>$8.52</td>\n",
       "      <td>$7.95</td>\n",
       "    </tr>\n",
       "    <tr>\n",
       "      <th>15</th>\n",
       "      <td>11/11/2019</td>\n",
       "      <td>$8.08</td>\n",
       "      <td>$8.50</td>\n",
       "    </tr>\n",
       "    <tr>\n",
       "      <th>14</th>\n",
       "      <td>11/12/2019</td>\n",
       "      <td>$7.83</td>\n",
       "      <td>$8.05</td>\n",
       "    </tr>\n",
       "    <tr>\n",
       "      <th>13</th>\n",
       "      <td>11/13/2019</td>\n",
       "      <td>$7.26</td>\n",
       "      <td>$7.80</td>\n",
       "    </tr>\n",
       "    <tr>\n",
       "      <th>12</th>\n",
       "      <td>11/14/2019</td>\n",
       "      <td>$6.82</td>\n",
       "      <td>$6.96</td>\n",
       "    </tr>\n",
       "    <tr>\n",
       "      <th>11</th>\n",
       "      <td>11/15/2019</td>\n",
       "      <td>$6.28</td>\n",
       "      <td>$6.62</td>\n",
       "    </tr>\n",
       "    <tr>\n",
       "      <th>10</th>\n",
       "      <td>11/18/2019</td>\n",
       "      <td>$6.14</td>\n",
       "      <td>$6.28</td>\n",
       "    </tr>\n",
       "    <tr>\n",
       "      <th>9</th>\n",
       "      <td>11/19/2019</td>\n",
       "      <td>$6.70</td>\n",
       "      <td>$6.10</td>\n",
       "    </tr>\n",
       "    <tr>\n",
       "      <th>8</th>\n",
       "      <td>11/20/2019</td>\n",
       "      <td>$6.87</td>\n",
       "      <td>$6.71</td>\n",
       "    </tr>\n",
       "    <tr>\n",
       "      <th>7</th>\n",
       "      <td>11/21/2019</td>\n",
       "      <td>$7.62</td>\n",
       "      <td>$7.24</td>\n",
       "    </tr>\n",
       "    <tr>\n",
       "      <th>6</th>\n",
       "      <td>11/22/2019</td>\n",
       "      <td>$7.07</td>\n",
       "      <td>$7.44</td>\n",
       "    </tr>\n",
       "    <tr>\n",
       "      <th>5</th>\n",
       "      <td>11/25/2019</td>\n",
       "      <td>$6.90</td>\n",
       "      <td>$7.09</td>\n",
       "    </tr>\n",
       "    <tr>\n",
       "      <th>4</th>\n",
       "      <td>11/26/2019</td>\n",
       "      <td>$6.74</td>\n",
       "      <td>$6.80</td>\n",
       "    </tr>\n",
       "    <tr>\n",
       "      <th>3</th>\n",
       "      <td>11/27/2019</td>\n",
       "      <td>$6.86</td>\n",
       "      <td>$6.80</td>\n",
       "    </tr>\n",
       "    <tr>\n",
       "      <th>2</th>\n",
       "      <td>11/29/2019</td>\n",
       "      <td>$6.85</td>\n",
       "      <td>$6.90</td>\n",
       "    </tr>\n",
       "    <tr>\n",
       "      <th>1</th>\n",
       "      <td>12/02/2019</td>\n",
       "      <td>$6.50</td>\n",
       "      <td>$6.82</td>\n",
       "    </tr>\n",
       "    <tr>\n",
       "      <th>0</th>\n",
       "      <td>12/03/2019</td>\n",
       "      <td>$6.88</td>\n",
       "      <td>$6.37</td>\n",
       "    </tr>\n",
       "  </tbody>\n",
       "</table>\n",
       "</div>"
      ],
      "text/plain": [
       "          Date  Close   Open\n",
       "20  11/04/2019  $8.08  $8.20\n",
       "19  11/05/2019  $8.23  $8.12\n",
       "18  11/06/2019  $8.33  $8.31\n",
       "17  11/07/2019  $7.93  $8.40\n",
       "16  11/08/2019  $8.52  $7.95\n",
       "15  11/11/2019  $8.08  $8.50\n",
       "14  11/12/2019  $7.83  $8.05\n",
       "13  11/13/2019  $7.26  $7.80\n",
       "12  11/14/2019  $6.82  $6.96\n",
       "11  11/15/2019  $6.28  $6.62\n",
       "10  11/18/2019  $6.14  $6.28\n",
       "9   11/19/2019  $6.70  $6.10\n",
       "8   11/20/2019  $6.87  $6.71\n",
       "7   11/21/2019  $7.62  $7.24\n",
       "6   11/22/2019  $7.07  $7.44\n",
       "5   11/25/2019  $6.90  $7.09\n",
       "4   11/26/2019  $6.74  $6.80\n",
       "3   11/27/2019  $6.86  $6.80\n",
       "2   11/29/2019  $6.85  $6.90\n",
       "1   12/02/2019  $6.50  $6.82\n",
       "0   12/03/2019  $6.88  $6.37"
      ]
     },
     "execution_count": 16,
     "metadata": {},
     "output_type": "execute_result"
    }
   ],
   "source": [
    "cron_ts = cron_asc.drop(columns=['Volume', 'High', 'Low'])\n",
    "cron_ts"
   ]
  },
  {
   "cell_type": "markdown",
   "metadata": {},
   "source": [
    "## Step 3: Time Series Analysis\n",
    "\n",
    "Before we begin to consider the media hype's effects on the stock prices, we need to test for seasonality."
   ]
  },
  {
   "cell_type": "code",
   "execution_count": 17,
   "metadata": {},
   "outputs": [],
   "source": [
    "def get_datetimes(df):\n",
    "    return pd.to_datetime(df.Date)"
   ]
  },
  {
   "cell_type": "code",
   "execution_count": 18,
   "metadata": {},
   "outputs": [],
   "source": [
    "tlry_ts['Date'] = get_datetimes(tlry_ts)\n",
    "\n",
    "acb_ts['Date'] = get_datetimes(acb_ts)\n",
    "\n",
    "cgc_ts['Date'] = get_datetimes(cgc_ts)\n",
    "\n",
    "cron_ts['Date'] = get_datetimes(cron_ts)"
   ]
  },
  {
   "cell_type": "code",
   "execution_count": 33,
   "metadata": {},
   "outputs": [],
   "source": [
    "tlry_ts.Open = tlry_ts.Open.str.strip('$')\n",
    "tlry_ts.Close = tlry_ts.Close.str.strip('$')\n",
    "acb_ts.Open = acb_ts.Open.str.strip('$')\n",
    "acb_ts.Close = acb_ts.Close.str.strip('$')\n",
    "cgc_ts.Open = cgc_ts.Open.str.strip('$')\n",
    "cgc_ts.Close = cgc_ts.Close.str.strip('$')\n",
    "cron_ts.Open = cron_ts.Open.str.strip('$')\n",
    "cron_ts.Close = cron_ts.Close.str.strip('$')"
   ]
  },
  {
   "cell_type": "code",
   "execution_count": 34,
   "metadata": {},
   "outputs": [],
   "source": [
    "tlry_ts.Open = pd.to_numeric(tlry_ts.Open)\n",
    "tlry_ts.Close = pd.to_numeric(tlry_ts.Close)\n",
    "acb_ts.Open = pd.to_numeric(acb_ts.Open)\n",
    "acb_ts.Open = pd.to_numeric(acb_ts.Open)\n",
    "cgc_ts.Open = pd.to_numeric(cgc_ts.Open)\n",
    "cgc_ts.Open = pd.to_numeric(cgc_ts.Open)\n",
    "cron_ts.Open = pd.to_numeric(cron_ts.Open)\n",
    "cron_ts.Open = pd.to_numeric(cron_ts.Open)"
   ]
  },
  {
   "cell_type": "code",
   "execution_count": 30,
   "metadata": {},
   "outputs": [],
   "source": [
    "tlry_open = tlry_ts.drop(columns=['Close'])\n",
    "tlry_close = tlry_ts.drop(columns=['Open'])\n",
    "\n",
    "acb_open = acb_ts.drop(columns=['Close'])\n",
    "acb_close = acb_ts.drop(columns=['Open'])\n",
    "\n",
    "cgc_open = cgc_ts.drop(columns=['Close'])\n",
    "cgc_close = cgc_ts.drop(columns=['Open'])\n",
    "\n",
    "cron_open = cron_ts.drop(columns=['Close'])\n",
    "cron_close = cron_ts.drop(columns=['Open'])"
   ]
  },
  {
   "cell_type": "code",
   "execution_count": 39,
   "metadata": {},
   "outputs": [
    {
     "ename": "AttributeError",
     "evalue": "'float' object has no attribute 'toordinal'",
     "output_type": "error",
     "traceback": [
      "\u001b[0;31m---------------------------------------------------------------------------\u001b[0m",
      "\u001b[0;31mAttributeError\u001b[0m                            Traceback (most recent call last)",
      "\u001b[0;32m<ipython-input-39-40747eeaffa1>\u001b[0m in \u001b[0;36m<module>\u001b[0;34m\u001b[0m\n\u001b[1;32m     10\u001b[0m \u001b[0mrcParams\u001b[0m\u001b[0;34m[\u001b[0m\u001b[0;34m'figure.figsize'\u001b[0m\u001b[0;34m]\u001b[0m \u001b[0;34m=\u001b[0m \u001b[0;36m20\u001b[0m\u001b[0;34m,\u001b[0m \u001b[0;36m10\u001b[0m\u001b[0;34m\u001b[0m\u001b[0;34m\u001b[0m\u001b[0m\n\u001b[1;32m     11\u001b[0m \u001b[0mfig\u001b[0m\u001b[0;34m,\u001b[0m \u001b[0max\u001b[0m \u001b[0;34m=\u001b[0m \u001b[0mplt\u001b[0m\u001b[0;34m.\u001b[0m\u001b[0msubplots\u001b[0m\u001b[0;34m(\u001b[0m\u001b[0;34m)\u001b[0m\u001b[0;34m\u001b[0m\u001b[0;34m\u001b[0m\u001b[0m\n\u001b[0;32m---> 12\u001b[0;31m \u001b[0mtlry_ts\u001b[0m\u001b[0;34m[\u001b[0m\u001b[0;34m'Date'\u001b[0m\u001b[0;34m]\u001b[0m \u001b[0;34m=\u001b[0m \u001b[0mtlry_ts\u001b[0m\u001b[0;34m[\u001b[0m\u001b[0;34m'Date'\u001b[0m\u001b[0;34m]\u001b[0m\u001b[0;34m.\u001b[0m\u001b[0mapply\u001b[0m\u001b[0;34m(\u001b[0m\u001b[0mdate2num\u001b[0m\u001b[0;34m)\u001b[0m\u001b[0;34m\u001b[0m\u001b[0;34m\u001b[0m\u001b[0m\n\u001b[0m\u001b[1;32m     13\u001b[0m \u001b[0;34m\u001b[0m\u001b[0m\n\u001b[1;32m     14\u001b[0m \u001b[0max\u001b[0m\u001b[0;34m.\u001b[0m\u001b[0mboxplot\u001b[0m\u001b[0;34m(\u001b[0m\u001b[0mtlry_ts\u001b[0m\u001b[0;34m)\u001b[0m\u001b[0;34m\u001b[0m\u001b[0;34m\u001b[0m\u001b[0m\n",
      "\u001b[0;32m~/anaconda3/lib/python3.7/site-packages/pandas/core/series.py\u001b[0m in \u001b[0;36mapply\u001b[0;34m(self, func, convert_dtype, args, **kwds)\u001b[0m\n\u001b[1;32m   4043\u001b[0m             \u001b[0;32melse\u001b[0m\u001b[0;34m:\u001b[0m\u001b[0;34m\u001b[0m\u001b[0;34m\u001b[0m\u001b[0m\n\u001b[1;32m   4044\u001b[0m                 \u001b[0mvalues\u001b[0m \u001b[0;34m=\u001b[0m \u001b[0mself\u001b[0m\u001b[0;34m.\u001b[0m\u001b[0mastype\u001b[0m\u001b[0;34m(\u001b[0m\u001b[0mobject\u001b[0m\u001b[0;34m)\u001b[0m\u001b[0;34m.\u001b[0m\u001b[0mvalues\u001b[0m\u001b[0;34m\u001b[0m\u001b[0;34m\u001b[0m\u001b[0m\n\u001b[0;32m-> 4045\u001b[0;31m                 \u001b[0mmapped\u001b[0m \u001b[0;34m=\u001b[0m \u001b[0mlib\u001b[0m\u001b[0;34m.\u001b[0m\u001b[0mmap_infer\u001b[0m\u001b[0;34m(\u001b[0m\u001b[0mvalues\u001b[0m\u001b[0;34m,\u001b[0m \u001b[0mf\u001b[0m\u001b[0;34m,\u001b[0m \u001b[0mconvert\u001b[0m\u001b[0;34m=\u001b[0m\u001b[0mconvert_dtype\u001b[0m\u001b[0;34m)\u001b[0m\u001b[0;34m\u001b[0m\u001b[0;34m\u001b[0m\u001b[0m\n\u001b[0m\u001b[1;32m   4046\u001b[0m \u001b[0;34m\u001b[0m\u001b[0m\n\u001b[1;32m   4047\u001b[0m         \u001b[0;32mif\u001b[0m \u001b[0mlen\u001b[0m\u001b[0;34m(\u001b[0m\u001b[0mmapped\u001b[0m\u001b[0;34m)\u001b[0m \u001b[0;32mand\u001b[0m \u001b[0misinstance\u001b[0m\u001b[0;34m(\u001b[0m\u001b[0mmapped\u001b[0m\u001b[0;34m[\u001b[0m\u001b[0;36m0\u001b[0m\u001b[0;34m]\u001b[0m\u001b[0;34m,\u001b[0m \u001b[0mSeries\u001b[0m\u001b[0;34m)\u001b[0m\u001b[0;34m:\u001b[0m\u001b[0;34m\u001b[0m\u001b[0;34m\u001b[0m\u001b[0m\n",
      "\u001b[0;32mpandas/_libs/lib.pyx\u001b[0m in \u001b[0;36mpandas._libs.lib.map_infer\u001b[0;34m()\u001b[0m\n",
      "\u001b[0;32m~/anaconda3/lib/python3.7/site-packages/matplotlib/dates.py\u001b[0m in \u001b[0;36mdate2num\u001b[0;34m(d)\u001b[0m\n\u001b[1;32m    416\u001b[0m                  np.issubdtype(d.dtype, np.datetime64))):\n\u001b[1;32m    417\u001b[0m             \u001b[0;32mreturn\u001b[0m \u001b[0m_dt64_to_ordinalf\u001b[0m\u001b[0;34m(\u001b[0m\u001b[0md\u001b[0m\u001b[0;34m)\u001b[0m\u001b[0;34m\u001b[0m\u001b[0;34m\u001b[0m\u001b[0m\n\u001b[0;32m--> 418\u001b[0;31m         \u001b[0;32mreturn\u001b[0m \u001b[0m_to_ordinalf\u001b[0m\u001b[0;34m(\u001b[0m\u001b[0md\u001b[0m\u001b[0;34m)\u001b[0m\u001b[0;34m\u001b[0m\u001b[0;34m\u001b[0m\u001b[0m\n\u001b[0m\u001b[1;32m    419\u001b[0m \u001b[0;34m\u001b[0m\u001b[0m\n\u001b[1;32m    420\u001b[0m     \u001b[0;32melse\u001b[0m\u001b[0;34m:\u001b[0m\u001b[0;34m\u001b[0m\u001b[0;34m\u001b[0m\u001b[0m\n",
      "\u001b[0;32m~/anaconda3/lib/python3.7/site-packages/matplotlib/dates.py\u001b[0m in \u001b[0;36m_to_ordinalf\u001b[0;34m(dt)\u001b[0m\n\u001b[1;32m    224\u001b[0m         \u001b[0mtzi\u001b[0m \u001b[0;34m=\u001b[0m \u001b[0mUTC\u001b[0m\u001b[0;34m\u001b[0m\u001b[0;34m\u001b[0m\u001b[0m\n\u001b[1;32m    225\u001b[0m \u001b[0;34m\u001b[0m\u001b[0m\n\u001b[0;32m--> 226\u001b[0;31m     \u001b[0mbase\u001b[0m \u001b[0;34m=\u001b[0m \u001b[0mfloat\u001b[0m\u001b[0;34m(\u001b[0m\u001b[0mdt\u001b[0m\u001b[0;34m.\u001b[0m\u001b[0mtoordinal\u001b[0m\u001b[0;34m(\u001b[0m\u001b[0;34m)\u001b[0m\u001b[0;34m)\u001b[0m\u001b[0;34m\u001b[0m\u001b[0;34m\u001b[0m\u001b[0m\n\u001b[0m\u001b[1;32m    227\u001b[0m \u001b[0;34m\u001b[0m\u001b[0m\n\u001b[1;32m    228\u001b[0m     \u001b[0;31m# If it's sufficiently datetime-like, it will have a `date()` method\u001b[0m\u001b[0;34m\u001b[0m\u001b[0;34m\u001b[0m\u001b[0;34m\u001b[0m\u001b[0m\n",
      "\u001b[0;31mAttributeError\u001b[0m: 'float' object has no attribute 'toordinal'"
     ]
    },
    {
     "data": {
      "image/png": "[encoded data removed]",
      "text/plain": [
       "<Figure size 1440x720 with 1 Axes>"
      ]
     },
     "metadata": {
      "needs_background": "light"
     },
     "output_type": "display_data"
    }
   ],
   "source": [
    "import matplotlib.pyplot as plt\n",
    "from pylab import rcParams\n",
    "import matplotlib.ticker as mtick\n",
    "import matplotlib.dates as mdates\n",
    "from matplotlib.dates import date2num\n",
    "import numpy as np\n",
    "import pandas as pd\n",
    "from datetime import datetime, timedelta\n",
    "\n",
    "rcParams['figure.figsize'] = 20, 10\n",
    "fig, ax = plt.subplots()\n",
    "tlry_ts['Date'] = tlry_ts['Date'].apply(date2num)\n",
    "\n",
    "ax.boxplot(tlry_ts)\n",
    "plt.xlabel('Date', fontsize=20)\n",
    "plt.show()"
   ]
  },
  {
   "cell_type": "code",
   "execution_count": null,
   "metadata": {},
   "outputs": [],
   "source": []
  }
 ],
 "metadata": {
  "kernelspec": {
   "display_name": "Python 3",
   "language": "python",
   "name": "python3"
  },
  "language_info": {
   "codemirror_mode": {
    "name": "ipython",
    "version": 3
   },
   "file_extension": ".py",
   "mimetype": "text/x-python",
   "name": "python",
   "nbconvert_exporter": "python",
   "pygments_lexer": "ipython3",
   "version": "3.7.5"
  }
 },
 "nbformat": 4,
 "nbformat_minor": 2
}
